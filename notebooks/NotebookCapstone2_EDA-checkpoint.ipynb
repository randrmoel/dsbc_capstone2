{
 "cells": [
  {
   "cell_type": "markdown",
   "id": "55d52181",
   "metadata": {},
   "source": [
    "#### Red and White Wine\n",
    "Continue the analysis and review relationships in the wine data set using EDA techniques."
   ]
  },
  {
   "cell_type": "code",
   "execution_count": 2,
   "id": "f14339de",
   "metadata": {},
   "outputs": [],
   "source": [
    "# Load required packages\n",
    "import pandas as pd\n",
    "import matplotlib.pyplot as plt\n",
    "import seaborn as sns"
   ]
  },
  {
   "cell_type": "markdown",
   "id": "36ffde03",
   "metadata": {},
   "source": [
    "#### Import data\n",
    "Next import the cleaned data"
   ]
  },
  {
   "cell_type": "code",
   "execution_count": null,
   "id": "9513edbf",
   "metadata": {},
   "outputs": [],
   "source": []
  }
 ],
 "metadata": {
  "kernelspec": {
   "display_name": "Python 3 (ipykernel)",
   "language": "python",
   "name": "python3"
  },
  "language_info": {
   "codemirror_mode": {
    "name": "ipython",
    "version": 3
   },
   "file_extension": ".py",
   "mimetype": "text/x-python",
   "name": "python",
   "nbconvert_exporter": "python",
   "pygments_lexer": "ipython3",
   "version": "3.8.12"
  }
 },
 "nbformat": 4,
 "nbformat_minor": 5
}
