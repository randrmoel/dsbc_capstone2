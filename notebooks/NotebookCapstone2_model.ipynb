{
 "cells": [
  {
   "cell_type": "markdown",
   "id": "9549efe0",
   "metadata": {},
   "source": [
    "<h3> In this notebook we will perform preprocessing of the total wine database including</h3>\n",
    "<ol>\n",
    "    <li> Creating dummy variables from categorical variables where needed </li>\n",
    "    <li> Scaling continuous variables</li>\n",
    "    <li> Split into a training and test test </li>\n",
    "    <li> Saving the pre-processed and split data into separate CSV files </li>\n",
    "</ol>"
   ]
  },
  {
   "cell_type": "code",
   "execution_count": 2,
   "id": "20d1fd59",
   "metadata": {},
   "outputs": [],
   "source": [
    "# Load Required Packages\n",
    "import pandas as pd\n",
    "import numpy as np\n",
    "import matplotlib.pyplot as plt\n",
    "import seaborn as sns\n",
    "from sklearn.model_selection import train_test_split\n",
    "from sklearn.preprocessing import StandardScaler, MinMaxScaler"
   ]
  },
  {
   "cell_type": "code",
   "execution_count": 3,
   "id": "aa2765af",
   "metadata": {},
   "outputs": [],
   "source": [
    "def mlstats(array, labels):\n",
    "    n = len(array)\n",
    "    for i in range(n):\n",
    "        tp = array[i][0,0]\n",
    "        tn = array[i][1,1]\n",
    "        fn = array[i][1,0]\n",
    "        fp = array[i][0,1]\n",
    "        try:\n",
    "            prec = round(tp/(tp + fp), 4)\n",
    "        except:\n",
    "            prec = np.nan\n",
    "        try:\n",
    "            recall = round(tp/(tp+fn), 4)\n",
    "        except:\n",
    "            recall = np.nan\n",
    "        if (fp + tn) != 0:\n",
    "            spec = round(tn / (fp + tn), 4)\n",
    "        else:\n",
    "            spec = 0\n",
    "        try:\n",
    "            acc = round((tp + tn) /(tp + tn +fp +fn), 4)\n",
    "        except:\n",
    "            acc = np.nan\n",
    "        try:\n",
    "            f1 = round(2* prec*recall/(prec + recall), 4)\n",
    "        except:\n",
    "            f1 = np.nan\n",
    "        l = labels[i]\n",
    "\n",
    "        print(f'Label: {l}, Precision: {prec:.4f}, Recall: {recall:.4f}, Specificity: {spec:.4f}, Accuracy: {acc:.4f}, F1: {f1:.4f} ')\n",
    "    return"
   ]
  },
  {
   "cell_type": "code",
   "execution_count": 4,
   "id": "feb64090",
   "metadata": {},
   "outputs": [],
   "source": [
    "# Load wine database files\n",
    "wine_qual = pd.read_csv('../data/WineQual.csv')"
   ]
  },
  {
   "cell_type": "code",
   "execution_count": 5,
   "id": "93d767f9",
   "metadata": {},
   "outputs": [
    {
     "data": {
      "text/html": [
       "<div>\n",
       "<style scoped>\n",
       "    .dataframe tbody tr th:only-of-type {\n",
       "        vertical-align: middle;\n",
       "    }\n",
       "\n",
       "    .dataframe tbody tr th {\n",
       "        vertical-align: top;\n",
       "    }\n",
       "\n",
       "    .dataframe thead th {\n",
       "        text-align: right;\n",
       "    }\n",
       "</style>\n",
       "<table border=\"1\" class=\"dataframe\">\n",
       "  <thead>\n",
       "    <tr style=\"text-align: right;\">\n",
       "      <th></th>\n",
       "      <th>fixed acidity</th>\n",
       "      <th>volatile acidity</th>\n",
       "      <th>citric acid</th>\n",
       "      <th>residual sugar</th>\n",
       "      <th>chlorides</th>\n",
       "      <th>free sulfur dioxide</th>\n",
       "      <th>total sulfur dioxide</th>\n",
       "      <th>density</th>\n",
       "      <th>pH</th>\n",
       "      <th>sulphates</th>\n",
       "      <th>alcohol</th>\n",
       "      <th>quality</th>\n",
       "      <th>wine_color</th>\n",
       "    </tr>\n",
       "  </thead>\n",
       "  <tbody>\n",
       "    <tr>\n",
       "      <th>0</th>\n",
       "      <td>7.0</td>\n",
       "      <td>0.27</td>\n",
       "      <td>0.36</td>\n",
       "      <td>20.7</td>\n",
       "      <td>0.045</td>\n",
       "      <td>45.0</td>\n",
       "      <td>170.0</td>\n",
       "      <td>1.0010</td>\n",
       "      <td>3.00</td>\n",
       "      <td>0.45</td>\n",
       "      <td>8.8</td>\n",
       "      <td>6</td>\n",
       "      <td>2</td>\n",
       "    </tr>\n",
       "    <tr>\n",
       "      <th>1</th>\n",
       "      <td>6.3</td>\n",
       "      <td>0.30</td>\n",
       "      <td>0.34</td>\n",
       "      <td>1.6</td>\n",
       "      <td>0.049</td>\n",
       "      <td>14.0</td>\n",
       "      <td>132.0</td>\n",
       "      <td>0.9940</td>\n",
       "      <td>3.30</td>\n",
       "      <td>0.49</td>\n",
       "      <td>9.5</td>\n",
       "      <td>6</td>\n",
       "      <td>2</td>\n",
       "    </tr>\n",
       "    <tr>\n",
       "      <th>2</th>\n",
       "      <td>8.1</td>\n",
       "      <td>0.28</td>\n",
       "      <td>0.40</td>\n",
       "      <td>6.9</td>\n",
       "      <td>0.050</td>\n",
       "      <td>30.0</td>\n",
       "      <td>97.0</td>\n",
       "      <td>0.9951</td>\n",
       "      <td>3.26</td>\n",
       "      <td>0.44</td>\n",
       "      <td>10.1</td>\n",
       "      <td>6</td>\n",
       "      <td>2</td>\n",
       "    </tr>\n",
       "    <tr>\n",
       "      <th>3</th>\n",
       "      <td>7.2</td>\n",
       "      <td>0.23</td>\n",
       "      <td>0.32</td>\n",
       "      <td>8.5</td>\n",
       "      <td>0.058</td>\n",
       "      <td>47.0</td>\n",
       "      <td>186.0</td>\n",
       "      <td>0.9956</td>\n",
       "      <td>3.19</td>\n",
       "      <td>0.40</td>\n",
       "      <td>9.9</td>\n",
       "      <td>6</td>\n",
       "      <td>2</td>\n",
       "    </tr>\n",
       "    <tr>\n",
       "      <th>4</th>\n",
       "      <td>7.2</td>\n",
       "      <td>0.23</td>\n",
       "      <td>0.32</td>\n",
       "      <td>8.5</td>\n",
       "      <td>0.058</td>\n",
       "      <td>47.0</td>\n",
       "      <td>186.0</td>\n",
       "      <td>0.9956</td>\n",
       "      <td>3.19</td>\n",
       "      <td>0.40</td>\n",
       "      <td>9.9</td>\n",
       "      <td>6</td>\n",
       "      <td>2</td>\n",
       "    </tr>\n",
       "  </tbody>\n",
       "</table>\n",
       "</div>"
      ],
      "text/plain": [
       "   fixed acidity  volatile acidity  citric acid  residual sugar  chlorides  \\\n",
       "0            7.0              0.27         0.36            20.7      0.045   \n",
       "1            6.3              0.30         0.34             1.6      0.049   \n",
       "2            8.1              0.28         0.40             6.9      0.050   \n",
       "3            7.2              0.23         0.32             8.5      0.058   \n",
       "4            7.2              0.23         0.32             8.5      0.058   \n",
       "\n",
       "   free sulfur dioxide  total sulfur dioxide  density    pH  sulphates  \\\n",
       "0                 45.0                 170.0   1.0010  3.00       0.45   \n",
       "1                 14.0                 132.0   0.9940  3.30       0.49   \n",
       "2                 30.0                  97.0   0.9951  3.26       0.44   \n",
       "3                 47.0                 186.0   0.9956  3.19       0.40   \n",
       "4                 47.0                 186.0   0.9956  3.19       0.40   \n",
       "\n",
       "   alcohol  quality  wine_color  \n",
       "0      8.8        6           2  \n",
       "1      9.5        6           2  \n",
       "2     10.1        6           2  \n",
       "3      9.9        6           2  \n",
       "4      9.9        6           2  "
      ]
     },
     "execution_count": 5,
     "metadata": {},
     "output_type": "execute_result"
    }
   ],
   "source": [
    "# Print out head\n",
    "wine_qual.head()"
   ]
  },
  {
   "cell_type": "code",
   "execution_count": 6,
   "id": "dfd808e6",
   "metadata": {},
   "outputs": [],
   "source": [
    "# Create explanatory and predictor variables\n",
    "x_cols = list(wine_qual.columns)\n",
    "x_cols.remove('quality')\n",
    "y = wine_qual['quality']\n",
    "X = wine_qual[x_cols]"
   ]
  },
  {
   "cell_type": "code",
   "execution_count": 7,
   "id": "e9a89db4",
   "metadata": {},
   "outputs": [],
   "source": [
    "# Create dummies and add back to data table\n",
    "# From before, red is 2 and white is 1\n",
    "# to make this a dummy variable, subtract 1 from the wine_color column to make red=1 and white=0\n",
    "# Quality is an ordinal variable where the higher the number the better the quality\n",
    "X = pd.get_dummies(X, drop_first = True)\n",
    "X.loc[:,'wine_color'] -= 1"
   ]
  },
  {
   "cell_type": "code",
   "execution_count": 8,
   "id": "437c7216",
   "metadata": {},
   "outputs": [],
   "source": [
    "# Create a stratification column out of y and wine_color\n",
    "X['strat'] = str(y)+str(X['wine_color'])"
   ]
  },
  {
   "cell_type": "code",
   "execution_count": 9,
   "id": "c0690d51",
   "metadata": {},
   "outputs": [
    {
     "name": "stdout",
     "output_type": "stream",
     "text": [
      "   fixed acidity  volatile acidity  citric acid  residual sugar  chlorides  \\\n",
      "0            7.0              0.27         0.36            20.7      0.045   \n",
      "1            6.3              0.30         0.34             1.6      0.049   \n",
      "2            8.1              0.28         0.40             6.9      0.050   \n",
      "3            7.2              0.23         0.32             8.5      0.058   \n",
      "4            7.2              0.23         0.32             8.5      0.058   \n",
      "\n",
      "   free sulfur dioxide  total sulfur dioxide  density    pH  sulphates  \\\n",
      "0                 45.0                 170.0   1.0010  3.00       0.45   \n",
      "1                 14.0                 132.0   0.9940  3.30       0.49   \n",
      "2                 30.0                  97.0   0.9951  3.26       0.44   \n",
      "3                 47.0                 186.0   0.9956  3.19       0.40   \n",
      "4                 47.0                 186.0   0.9956  3.19       0.40   \n",
      "\n",
      "   alcohol  wine_color                                              strat  \n",
      "0      8.8           1  0       6\\n1       6\\n2       6\\n3       6\\n4 ...  \n",
      "1      9.5           1  0       6\\n1       6\\n2       6\\n3       6\\n4 ...  \n",
      "2     10.1           1  0       6\\n1       6\\n2       6\\n3       6\\n4 ...  \n",
      "3      9.9           1  0       6\\n1       6\\n2       6\\n3       6\\n4 ...  \n",
      "4      9.9           1  0       6\\n1       6\\n2       6\\n3       6\\n4 ...  \n"
     ]
    }
   ],
   "source": [
    "# Take the squareroot or alcohol, we'll need later\n",
    "print(X.head())\n"
   ]
  },
  {
   "cell_type": "code",
   "execution_count": 10,
   "id": "21127d52",
   "metadata": {},
   "outputs": [],
   "source": [
    "# Stratify along y,wine_color for test train split\n",
    "X_train, X_test, y_train, y_test = train_test_split(X, y,stratify= X['strat'], random_state = 42, \\\n",
    "                                                    test_size=0.20)"
   ]
  },
  {
   "cell_type": "code",
   "execution_count": 11,
   "id": "14388c1e",
   "metadata": {},
   "outputs": [],
   "source": [
    "# Drop the strat column\n",
    "X_train = X_train.drop('strat', axis = 1)\n",
    "X_test = X_test.drop('strat', axis = 1)"
   ]
  },
  {
   "cell_type": "code",
   "execution_count": 12,
   "id": "96d69568",
   "metadata": {},
   "outputs": [],
   "source": [
    "X_train['logalco'] = np.sqrt(X_train['alcohol'])\n",
    "X_test['logalco'] = np.sqrt(X_test['alcohol'])\n",
    "x_cols.append('logalco')"
   ]
  },
  {
   "cell_type": "code",
   "execution_count": 13,
   "id": "7ab9ea15",
   "metadata": {},
   "outputs": [],
   "source": [
    "# Perform standard scaler on training set and also apply this scaler to test set\n",
    "# To prevent leakage and because we learn something from the data when we scale, scaling should be done first\n",
    "# to training data and this scaler applied to the test data.\n",
    "s = StandardScaler()\n",
    "\n",
    "scaled_X_train = s.fit_transform(X_train)\n",
    "df_scaled_X_train = pd.DataFrame(scaled_X_train, index=X_train.index, columns=x_cols)\n",
    "\n",
    "scaled_X_test = s.fit_transform(X_test)\n",
    "df_scaled_X_test = pd.DataFrame(scaled_X_test, index=X_test.index, columns=x_cols)\n"
   ]
  },
  {
   "cell_type": "code",
   "execution_count": 14,
   "id": "3c60793b",
   "metadata": {},
   "outputs": [
    {
     "name": "stdout",
     "output_type": "stream",
     "text": [
      "      fixed acidity  volatile acidity  citric acid  residual sugar  chlorides  \\\n",
      "2735      -0.568366          0.049829    -0.255062        1.525725  -0.149819   \n",
      "2538      -1.025779         -0.368288    -1.222375        0.701338  -0.782279   \n",
      "3283      -0.492130         -0.846136    -1.222375       -0.209827   4.277402   \n",
      "722       -0.263423         -0.189095     0.159500       -0.817270  -0.782279   \n",
      "4805      -1.635664         -0.487750     0.159500        0.224061  -0.715704   \n",
      "\n",
      "      free sulfur dioxide  total sulfur dioxide   density        pH  \\\n",
      "2735             3.170889              1.720949  0.500601 -0.389360   \n",
      "2538            -0.015010              0.488247  0.237341  0.365739   \n",
      "3283             0.269445              0.939659 -0.255429 -1.836634   \n",
      "722             -0.413248              0.245178 -1.018210  0.932064   \n",
      "4805            -0.242575             -0.258320 -0.076547  0.051114   \n",
      "\n",
      "      sulphates   alcohol  wine_color   logalco  \n",
      "2735  -0.149138 -0.508151    0.591564 -0.494212  \n",
      "2538  -0.621685 -0.845763    0.591564 -0.849911  \n",
      "3283  -0.554179 -0.930167    0.591564 -0.940000  \n",
      "722   -0.419165  1.011107    0.591564  1.023973  \n",
      "4805  -0.824206 -1.098973    0.591564 -1.121628  \n"
     ]
    }
   ],
   "source": [
    "print(df_scaled_X_test.head())"
   ]
  },
  {
   "cell_type": "markdown",
   "id": "83f13bea",
   "metadata": {},
   "source": [
    "<h3>This is the modeling step for the capstone project</h3>\n",
    "<ol>We will look at several models including:\n",
    "    <li>Ordinal Regression with various kernals</li>\n",
    "    <ol>\n",
    "        <li>Probit</li>\n",
    "        <li>Logit</li>\n",
    "        <li>One Customer Kernal</li>\n",
    "    </ol>\n",
    "    <li>Tree Regression</li>\n",
    "    <ol>\n",
    "        <li>Random Forest Regression</li>\n",
    "        <li>Other forest methodologies</li>\n",
    "    </ol>\n",
    "</ol>"
   ]
  },
  {
   "cell_type": "markdown",
   "id": "26c5c914",
   "metadata": {},
   "source": [
    "<h3>Load additional required packages</h3>"
   ]
  },
  {
   "cell_type": "code",
   "execution_count": 15,
   "id": "5b5b7010",
   "metadata": {},
   "outputs": [],
   "source": [
    "import scipy.stats as stats\n",
    "from statsmodels.miscmodels.ordinal_model import OrderedModel"
   ]
  },
  {
   "cell_type": "code",
   "execution_count": 16,
   "id": "d1d58a99",
   "metadata": {},
   "outputs": [
    {
     "data": {
      "text/html": [
       "<table class=\"simpletable\">\n",
       "<caption>OrderedModel Results</caption>\n",
       "<tr>\n",
       "  <th>Dep. Variable:</th>          <td>quality</td>      <th>  Log-Likelihood:    </th> <td> -5620.5</td> \n",
       "</tr>\n",
       "<tr>\n",
       "  <th>Model:</th>               <td>OrderedModel</td>    <th>  AIC:               </th> <td>1.128e+04</td>\n",
       "</tr>\n",
       "<tr>\n",
       "  <th>Method:</th>           <td>Maximum Likelihood</td> <th>  BIC:               </th> <td>1.140e+04</td>\n",
       "</tr>\n",
       "<tr>\n",
       "  <th>Date:</th>              <td>Mon, 25 Apr 2022</td>  <th>                     </th>     <td> </td>    \n",
       "</tr>\n",
       "<tr>\n",
       "  <th>Time:</th>                  <td>18:35:11</td>      <th>                     </th>     <td> </td>    \n",
       "</tr>\n",
       "<tr>\n",
       "  <th>No. Observations:</th>       <td>  5197</td>       <th>                     </th>     <td> </td>    \n",
       "</tr>\n",
       "<tr>\n",
       "  <th>Df Residuals:</th>           <td>  5179</td>       <th>                     </th>     <td> </td>    \n",
       "</tr>\n",
       "<tr>\n",
       "  <th>Df Model:</th>               <td>    18</td>       <th>                     </th>     <td> </td>    \n",
       "</tr>\n",
       "</table>\n",
       "<table class=\"simpletable\">\n",
       "<tr>\n",
       "            <td></td>              <th>coef</th>     <th>std err</th>      <th>z</th>      <th>P>|z|</th>  <th>[0.025</th>    <th>0.975]</th>  \n",
       "</tr>\n",
       "<tr>\n",
       "  <th>fixed acidity</th>        <td>    0.2941</td> <td>    0.065</td> <td>    4.557</td> <td> 0.000</td> <td>    0.168</td> <td>    0.421</td>\n",
       "</tr>\n",
       "<tr>\n",
       "  <th>volatile acidity</th>     <td>   -0.6709</td> <td>    0.042</td> <td>  -16.017</td> <td> 0.000</td> <td>   -0.753</td> <td>   -0.589</td>\n",
       "</tr>\n",
       "<tr>\n",
       "  <th>citric acid</th>          <td>   -0.0029</td> <td>    0.034</td> <td>   -0.085</td> <td> 0.932</td> <td>   -0.070</td> <td>    0.064</td>\n",
       "</tr>\n",
       "<tr>\n",
       "  <th>residual sugar</th>       <td>    0.8289</td> <td>    0.090</td> <td>    9.195</td> <td> 0.000</td> <td>    0.652</td> <td>    1.006</td>\n",
       "</tr>\n",
       "<tr>\n",
       "  <th>chlorides</th>            <td>   -0.0673</td> <td>    0.035</td> <td>   -1.904</td> <td> 0.057</td> <td>   -0.137</td> <td>    0.002</td>\n",
       "</tr>\n",
       "<tr>\n",
       "  <th>free sulfur dioxide</th>  <td>    0.2665</td> <td>    0.042</td> <td>    6.399</td> <td> 0.000</td> <td>    0.185</td> <td>    0.348</td>\n",
       "</tr>\n",
       "<tr>\n",
       "  <th>total sulfur dioxide</th> <td>   -0.2427</td> <td>    0.054</td> <td>   -4.480</td> <td> 0.000</td> <td>   -0.349</td> <td>   -0.137</td>\n",
       "</tr>\n",
       "<tr>\n",
       "  <th>density</th>              <td>   -0.8935</td> <td>    0.142</td> <td>   -6.275</td> <td> 0.000</td> <td>   -1.173</td> <td>   -0.614</td>\n",
       "</tr>\n",
       "<tr>\n",
       "  <th>pH</th>                   <td>    0.2383</td> <td>    0.045</td> <td>    5.308</td> <td> 0.000</td> <td>    0.150</td> <td>    0.326</td>\n",
       "</tr>\n",
       "<tr>\n",
       "  <th>sulphates</th>            <td>    0.2661</td> <td>    0.034</td> <td>    7.906</td> <td> 0.000</td> <td>    0.200</td> <td>    0.332</td>\n",
       "</tr>\n",
       "<tr>\n",
       "  <th>alcohol</th>              <td>    0.6983</td> <td>    0.071</td> <td>    9.889</td> <td> 0.000</td> <td>    0.560</td> <td>    0.837</td>\n",
       "</tr>\n",
       "<tr>\n",
       "  <th>wine_color</th>           <td>   -0.4289</td> <td>    0.076</td> <td>   -5.658</td> <td> 0.000</td> <td>   -0.577</td> <td>   -0.280</td>\n",
       "</tr>\n",
       "<tr>\n",
       "  <th>3/4</th>                  <td>   -6.3900</td> <td>    0.233</td> <td>  -27.405</td> <td> 0.000</td> <td>   -6.847</td> <td>   -5.933</td>\n",
       "</tr>\n",
       "<tr>\n",
       "  <th>4/5</th>                  <td>    0.8883</td> <td>    0.091</td> <td>    9.781</td> <td> 0.000</td> <td>    0.710</td> <td>    1.066</td>\n",
       "</tr>\n",
       "<tr>\n",
       "  <th>5/6</th>                  <td>    1.1694</td> <td>    0.025</td> <td>   47.157</td> <td> 0.000</td> <td>    1.121</td> <td>    1.218</td>\n",
       "</tr>\n",
       "<tr>\n",
       "  <th>6/7</th>                  <td>    0.9562</td> <td>    0.019</td> <td>   49.141</td> <td> 0.000</td> <td>    0.918</td> <td>    0.994</td>\n",
       "</tr>\n",
       "<tr>\n",
       "  <th>7/8</th>                  <td>    0.8491</td> <td>    0.035</td> <td>   24.489</td> <td> 0.000</td> <td>    0.781</td> <td>    0.917</td>\n",
       "</tr>\n",
       "<tr>\n",
       "  <th>8/9</th>                  <td>    1.6386</td> <td>    0.194</td> <td>    8.451</td> <td> 0.000</td> <td>    1.259</td> <td>    2.019</td>\n",
       "</tr>\n",
       "</table>"
      ],
      "text/plain": [
       "<class 'statsmodels.iolib.summary.Summary'>\n",
       "\"\"\"\n",
       "                             OrderedModel Results                             \n",
       "==============================================================================\n",
       "Dep. Variable:                quality   Log-Likelihood:                -5620.5\n",
       "Model:                   OrderedModel   AIC:                         1.128e+04\n",
       "Method:            Maximum Likelihood   BIC:                         1.140e+04\n",
       "Date:                Mon, 25 Apr 2022                                         \n",
       "Time:                        18:35:11                                         \n",
       "No. Observations:                5197                                         \n",
       "Df Residuals:                    5179                                         \n",
       "Df Model:                          18                                         \n",
       "========================================================================================\n",
       "                           coef    std err          z      P>|z|      [0.025      0.975]\n",
       "----------------------------------------------------------------------------------------\n",
       "fixed acidity            0.2941      0.065      4.557      0.000       0.168       0.421\n",
       "volatile acidity        -0.6709      0.042    -16.017      0.000      -0.753      -0.589\n",
       "citric acid             -0.0029      0.034     -0.085      0.932      -0.070       0.064\n",
       "residual sugar           0.8289      0.090      9.195      0.000       0.652       1.006\n",
       "chlorides               -0.0673      0.035     -1.904      0.057      -0.137       0.002\n",
       "free sulfur dioxide      0.2665      0.042      6.399      0.000       0.185       0.348\n",
       "total sulfur dioxide    -0.2427      0.054     -4.480      0.000      -0.349      -0.137\n",
       "density                 -0.8935      0.142     -6.275      0.000      -1.173      -0.614\n",
       "pH                       0.2383      0.045      5.308      0.000       0.150       0.326\n",
       "sulphates                0.2661      0.034      7.906      0.000       0.200       0.332\n",
       "alcohol                  0.6983      0.071      9.889      0.000       0.560       0.837\n",
       "wine_color              -0.4289      0.076     -5.658      0.000      -0.577      -0.280\n",
       "3/4                     -6.3900      0.233    -27.405      0.000      -6.847      -5.933\n",
       "4/5                      0.8883      0.091      9.781      0.000       0.710       1.066\n",
       "5/6                      1.1694      0.025     47.157      0.000       1.121       1.218\n",
       "6/7                      0.9562      0.019     49.141      0.000       0.918       0.994\n",
       "7/8                      0.8491      0.035     24.489      0.000       0.781       0.917\n",
       "8/9                      1.6386      0.194      8.451      0.000       1.259       2.019\n",
       "========================================================================================\n",
       "\"\"\""
      ]
     },
     "execution_count": 16,
     "metadata": {},
     "output_type": "execute_result"
    }
   ],
   "source": [
    "# Logit Model First\n",
    "# without logalco\n",
    "df_scaled_X_train_nalco = df_scaled_X_train.drop('logalco', axis = 1, inplace = False)\n",
    "df_scaled_X_test_nalco = df_scaled_X_test.drop('logalco', axis = 1, inplace = False)\n",
    "\n",
    "mod_prob = OrderedModel(y_train, df_scaled_X_train_nalco, distr='logit')\n",
    "res_prob = mod_prob.fit(method='bfgs', disp =False)\n",
    "res_prob.summary()"
   ]
  },
  {
   "cell_type": "markdown",
   "id": "49f01be8",
   "metadata": {},
   "source": [
    "<h3>We should drop citric acid as it has a large p-value and is colinear with acidity</h3>"
   ]
  },
  {
   "cell_type": "code",
   "execution_count": 17,
   "id": "61fa9c5e",
   "metadata": {},
   "outputs": [],
   "source": [
    "try:\n",
    "    df_scaled_X_train_nalco.drop('citric acid', inplace=True, axis=1)\n",
    "except:\n",
    "    print('Citric acid already dropped')"
   ]
  },
  {
   "cell_type": "markdown",
   "id": "9c1f318a",
   "metadata": {},
   "source": [
    "<h3>Re-run the model</h3>"
   ]
  },
  {
   "cell_type": "code",
   "execution_count": 18,
   "id": "4cb97fd1",
   "metadata": {},
   "outputs": [
    {
     "data": {
      "text/html": [
       "<table class=\"simpletable\">\n",
       "<caption>OrderedModel Results</caption>\n",
       "<tr>\n",
       "  <th>Dep. Variable:</th>          <td>quality</td>      <th>  Log-Likelihood:    </th> <td> -5620.5</td> \n",
       "</tr>\n",
       "<tr>\n",
       "  <th>Model:</th>               <td>OrderedModel</td>    <th>  AIC:               </th> <td>1.128e+04</td>\n",
       "</tr>\n",
       "<tr>\n",
       "  <th>Method:</th>           <td>Maximum Likelihood</td> <th>  BIC:               </th> <td>1.139e+04</td>\n",
       "</tr>\n",
       "<tr>\n",
       "  <th>Date:</th>              <td>Mon, 25 Apr 2022</td>  <th>                     </th>     <td> </td>    \n",
       "</tr>\n",
       "<tr>\n",
       "  <th>Time:</th>                  <td>18:35:15</td>      <th>                     </th>     <td> </td>    \n",
       "</tr>\n",
       "<tr>\n",
       "  <th>No. Observations:</th>       <td>  5197</td>       <th>                     </th>     <td> </td>    \n",
       "</tr>\n",
       "<tr>\n",
       "  <th>Df Residuals:</th>           <td>  5180</td>       <th>                     </th>     <td> </td>    \n",
       "</tr>\n",
       "<tr>\n",
       "  <th>Df Model:</th>               <td>    17</td>       <th>                     </th>     <td> </td>    \n",
       "</tr>\n",
       "</table>\n",
       "<table class=\"simpletable\">\n",
       "<tr>\n",
       "            <td></td>              <th>coef</th>     <th>std err</th>      <th>z</th>      <th>P>|z|</th>  <th>[0.025</th>    <th>0.975]</th>  \n",
       "</tr>\n",
       "<tr>\n",
       "  <th>fixed acidity</th>        <td>    0.2930</td> <td>    0.063</td> <td>    4.623</td> <td> 0.000</td> <td>    0.169</td> <td>    0.417</td>\n",
       "</tr>\n",
       "<tr>\n",
       "  <th>volatile acidity</th>     <td>   -0.6697</td> <td>    0.040</td> <td>  -16.934</td> <td> 0.000</td> <td>   -0.747</td> <td>   -0.592</td>\n",
       "</tr>\n",
       "<tr>\n",
       "  <th>residual sugar</th>       <td>    0.8291</td> <td>    0.090</td> <td>    9.202</td> <td> 0.000</td> <td>    0.653</td> <td>    1.006</td>\n",
       "</tr>\n",
       "<tr>\n",
       "  <th>chlorides</th>            <td>   -0.0678</td> <td>    0.035</td> <td>   -1.946</td> <td> 0.052</td> <td>   -0.136</td> <td>    0.000</td>\n",
       "</tr>\n",
       "<tr>\n",
       "  <th>free sulfur dioxide</th>  <td>    0.2665</td> <td>    0.042</td> <td>    6.400</td> <td> 0.000</td> <td>    0.185</td> <td>    0.348</td>\n",
       "</tr>\n",
       "<tr>\n",
       "  <th>total sulfur dioxide</th> <td>   -0.2432</td> <td>    0.054</td> <td>   -4.506</td> <td> 0.000</td> <td>   -0.349</td> <td>   -0.137</td>\n",
       "</tr>\n",
       "<tr>\n",
       "  <th>density</th>              <td>   -0.8942</td> <td>    0.142</td> <td>   -6.293</td> <td> 0.000</td> <td>   -1.173</td> <td>   -0.616</td>\n",
       "</tr>\n",
       "<tr>\n",
       "  <th>pH</th>                   <td>    0.2386</td> <td>    0.045</td> <td>    5.336</td> <td> 0.000</td> <td>    0.151</td> <td>    0.326</td>\n",
       "</tr>\n",
       "<tr>\n",
       "  <th>sulphates</th>            <td>    0.2659</td> <td>    0.034</td> <td>    7.909</td> <td> 0.000</td> <td>    0.200</td> <td>    0.332</td>\n",
       "</tr>\n",
       "<tr>\n",
       "  <th>alcohol</th>              <td>    0.6977</td> <td>    0.070</td> <td>    9.942</td> <td> 0.000</td> <td>    0.560</td> <td>    0.835</td>\n",
       "</tr>\n",
       "<tr>\n",
       "  <th>wine_color</th>           <td>   -0.4294</td> <td>    0.076</td> <td>   -5.686</td> <td> 0.000</td> <td>   -0.577</td> <td>   -0.281</td>\n",
       "</tr>\n",
       "<tr>\n",
       "  <th>3/4</th>                  <td>   -6.3900</td> <td>    0.233</td> <td>  -27.406</td> <td> 0.000</td> <td>   -6.847</td> <td>   -5.933</td>\n",
       "</tr>\n",
       "<tr>\n",
       "  <th>4/5</th>                  <td>    0.8883</td> <td>    0.091</td> <td>    9.781</td> <td> 0.000</td> <td>    0.710</td> <td>    1.066</td>\n",
       "</tr>\n",
       "<tr>\n",
       "  <th>5/6</th>                  <td>    1.1693</td> <td>    0.025</td> <td>   47.161</td> <td> 0.000</td> <td>    1.121</td> <td>    1.218</td>\n",
       "</tr>\n",
       "<tr>\n",
       "  <th>6/7</th>                  <td>    0.9563</td> <td>    0.019</td> <td>   49.144</td> <td> 0.000</td> <td>    0.918</td> <td>    0.994</td>\n",
       "</tr>\n",
       "<tr>\n",
       "  <th>7/8</th>                  <td>    0.8490</td> <td>    0.035</td> <td>   24.488</td> <td> 0.000</td> <td>    0.781</td> <td>    0.917</td>\n",
       "</tr>\n",
       "<tr>\n",
       "  <th>8/9</th>                  <td>    1.6386</td> <td>    0.194</td> <td>    8.451</td> <td> 0.000</td> <td>    1.259</td> <td>    2.019</td>\n",
       "</tr>\n",
       "</table>"
      ],
      "text/plain": [
       "<class 'statsmodels.iolib.summary.Summary'>\n",
       "\"\"\"\n",
       "                             OrderedModel Results                             \n",
       "==============================================================================\n",
       "Dep. Variable:                quality   Log-Likelihood:                -5620.5\n",
       "Model:                   OrderedModel   AIC:                         1.128e+04\n",
       "Method:            Maximum Likelihood   BIC:                         1.139e+04\n",
       "Date:                Mon, 25 Apr 2022                                         \n",
       "Time:                        18:35:15                                         \n",
       "No. Observations:                5197                                         \n",
       "Df Residuals:                    5180                                         \n",
       "Df Model:                          17                                         \n",
       "========================================================================================\n",
       "                           coef    std err          z      P>|z|      [0.025      0.975]\n",
       "----------------------------------------------------------------------------------------\n",
       "fixed acidity            0.2930      0.063      4.623      0.000       0.169       0.417\n",
       "volatile acidity        -0.6697      0.040    -16.934      0.000      -0.747      -0.592\n",
       "residual sugar           0.8291      0.090      9.202      0.000       0.653       1.006\n",
       "chlorides               -0.0678      0.035     -1.946      0.052      -0.136       0.000\n",
       "free sulfur dioxide      0.2665      0.042      6.400      0.000       0.185       0.348\n",
       "total sulfur dioxide    -0.2432      0.054     -4.506      0.000      -0.349      -0.137\n",
       "density                 -0.8942      0.142     -6.293      0.000      -1.173      -0.616\n",
       "pH                       0.2386      0.045      5.336      0.000       0.151       0.326\n",
       "sulphates                0.2659      0.034      7.909      0.000       0.200       0.332\n",
       "alcohol                  0.6977      0.070      9.942      0.000       0.560       0.835\n",
       "wine_color              -0.4294      0.076     -5.686      0.000      -0.577      -0.281\n",
       "3/4                     -6.3900      0.233    -27.406      0.000      -6.847      -5.933\n",
       "4/5                      0.8883      0.091      9.781      0.000       0.710       1.066\n",
       "5/6                      1.1693      0.025     47.161      0.000       1.121       1.218\n",
       "6/7                      0.9563      0.019     49.144      0.000       0.918       0.994\n",
       "7/8                      0.8490      0.035     24.488      0.000       0.781       0.917\n",
       "8/9                      1.6386      0.194      8.451      0.000       1.259       2.019\n",
       "========================================================================================\n",
       "\"\"\""
      ]
     },
     "execution_count": 18,
     "metadata": {},
     "output_type": "execute_result"
    }
   ],
   "source": [
    "# Without citric acid\n",
    "mod_prob = OrderedModel(y_train, df_scaled_X_train_nalco, distr='logit')\n",
    "res_prob = mod_prob.fit(method='bfgs', disp = False)\n",
    "res_prob.summary()"
   ]
  },
  {
   "cell_type": "code",
   "execution_count": 19,
   "id": "549f5508",
   "metadata": {},
   "outputs": [],
   "source": [
    "try:\n",
    "    df_scaled_X_test_nalco.drop('citric acid', inplace = True, axis = 1)\n",
    "except:\n",
    "    print('Column citric acid already dropped')\n",
    "    \n",
    "predicted = res_prob.model.predict(res_prob.params, exog = np.array(df_scaled_X_test_nalco)[:, None])\n"
   ]
  },
  {
   "cell_type": "code",
   "execution_count": 20,
   "id": "35333458",
   "metadata": {},
   "outputs": [],
   "source": [
    "rowmax = np.amax(predicted[:,0], axis = 1)"
   ]
  },
  {
   "cell_type": "code",
   "execution_count": 21,
   "id": "f024d1f7",
   "metadata": {},
   "outputs": [],
   "source": [
    "# Need to change back to 3 to 9 scale\n",
    "y_pred = []\n",
    "for i, r in enumerate(rowmax):\n",
    "    y_pred.append(list(predicted[i,0]).index(r)+3)\n",
    "    "
   ]
  },
  {
   "cell_type": "code",
   "execution_count": 22,
   "id": "502b5006",
   "metadata": {},
   "outputs": [
    {
     "data": {
      "text/plain": [
       "0.5292307692307693"
      ]
     },
     "execution_count": 22,
     "metadata": {},
     "output_type": "execute_result"
    }
   ],
   "source": [
    "# Using the list comparison what is the percentage of matches\n",
    "np.sum(y_test==y_pred)/len(y_test)"
   ]
  },
  {
   "cell_type": "code",
   "execution_count": 23,
   "id": "08c274ee",
   "metadata": {},
   "outputs": [],
   "source": [
    "# Let's look at the multiclass confusion matrix\n",
    "from sklearn.metrics import multilabel_confusion_matrix"
   ]
  },
  {
   "cell_type": "code",
   "execution_count": 24,
   "id": "5b0cdb15",
   "metadata": {},
   "outputs": [
    {
     "name": "stdout",
     "output_type": "stream",
     "text": [
      "[[[1289    0]\n",
      "  [  11    0]]\n",
      "\n",
      " [[1260    0]\n",
      "  [  40    0]]\n",
      "\n",
      " [[ 718  168]\n",
      "  [ 179  235]]\n",
      "\n",
      " [[ 335  386]\n",
      "  [ 168  411]]\n",
      "\n",
      " [[1026   58]\n",
      "  [ 174   42]]\n",
      "\n",
      " [[1264    0]\n",
      "  [  36    0]]\n",
      "\n",
      " [[1296    0]\n",
      "  [   4    0]]]\n",
      "Label: 3, Precision: 1.0000, Recall: 0.9915, Specificity: 0.0000, Accuracy: 0.9915, F1: 0.9957 \n",
      "Label: 4, Precision: 1.0000, Recall: 0.9692, Specificity: 0.0000, Accuracy: 0.9692, F1: 0.9844 \n",
      "Label: 5, Precision: 0.8104, Recall: 0.8004, Specificity: 0.5831, Accuracy: 0.7331, F1: 0.8054 \n",
      "Label: 6, Precision: 0.4646, Recall: 0.6660, Specificity: 0.5157, Accuracy: 0.5738, F1: 0.5474 \n",
      "Label: 7, Precision: 0.9465, Recall: 0.8550, Specificity: 0.4200, Accuracy: 0.8215, F1: 0.8984 \n",
      "Label: 8, Precision: 1.0000, Recall: 0.9723, Specificity: 0.0000, Accuracy: 0.9723, F1: 0.9860 \n",
      "Label: 9, Precision: 1.0000, Recall: 0.9969, Specificity: 0.0000, Accuracy: 0.9969, F1: 0.9984 \n"
     ]
    }
   ],
   "source": [
    "ml = multilabel_confusion_matrix(y_test, y_pred)\n",
    "print(ml)\n",
    "l =['3', '4', '5', '6', '7', '8', '9']\n",
    "mlstats(ml, l)"
   ]
  },
  {
   "cell_type": "code",
   "execution_count": 25,
   "id": "1cd3345e",
   "metadata": {},
   "outputs": [],
   "source": [
    "# Some room for improvement,  several of the acid measures are redundent, \n",
    "# let's drop them. And clorides is not significant\n",
    "\n",
    "try:\n",
    "    df_scaled_X_train_nalco.drop(['chlorides', 'fixed acidity'], inplace = True, axis = 1)\n",
    "except:\n",
    "    print('Columns from X_train already dropped')\n",
    "try:\n",
    "    df_scaled_X_test_nalco.drop(['chlorides', 'fixed acidity'], inplace = True, axis = 1)\n",
    "except:\n",
    "    print('Columns from X_test already dropped')\n"
   ]
  },
  {
   "cell_type": "code",
   "execution_count": 26,
   "id": "2df4cffa",
   "metadata": {},
   "outputs": [
    {
     "data": {
      "text/html": [
       "<table class=\"simpletable\">\n",
       "<caption>OrderedModel Results</caption>\n",
       "<tr>\n",
       "  <th>Dep. Variable:</th>          <td>quality</td>      <th>  Log-Likelihood:    </th> <td> -5634.8</td> \n",
       "</tr>\n",
       "<tr>\n",
       "  <th>Model:</th>               <td>OrderedModel</td>    <th>  AIC:               </th> <td>1.130e+04</td>\n",
       "</tr>\n",
       "<tr>\n",
       "  <th>Method:</th>           <td>Maximum Likelihood</td> <th>  BIC:               </th> <td>1.140e+04</td>\n",
       "</tr>\n",
       "<tr>\n",
       "  <th>Date:</th>              <td>Mon, 25 Apr 2022</td>  <th>                     </th>     <td> </td>    \n",
       "</tr>\n",
       "<tr>\n",
       "  <th>Time:</th>                  <td>18:35:21</td>      <th>                     </th>     <td> </td>    \n",
       "</tr>\n",
       "<tr>\n",
       "  <th>No. Observations:</th>       <td>  5197</td>       <th>                     </th>     <td> </td>    \n",
       "</tr>\n",
       "<tr>\n",
       "  <th>Df Residuals:</th>           <td>  5182</td>       <th>                     </th>     <td> </td>    \n",
       "</tr>\n",
       "<tr>\n",
       "  <th>Df Model:</th>               <td>    15</td>       <th>                     </th>     <td> </td>    \n",
       "</tr>\n",
       "</table>\n",
       "<table class=\"simpletable\">\n",
       "<tr>\n",
       "            <td></td>              <th>coef</th>     <th>std err</th>      <th>z</th>      <th>P>|z|</th>  <th>[0.025</th>    <th>0.975]</th>  \n",
       "</tr>\n",
       "<tr>\n",
       "  <th>volatile acidity</th>     <td>   -0.7067</td> <td>    0.039</td> <td>  -18.171</td> <td> 0.000</td> <td>   -0.783</td> <td>   -0.631</td>\n",
       "</tr>\n",
       "<tr>\n",
       "  <th>residual sugar</th>       <td>    0.5320</td> <td>    0.058</td> <td>    9.209</td> <td> 0.000</td> <td>    0.419</td> <td>    0.645</td>\n",
       "</tr>\n",
       "<tr>\n",
       "  <th>free sulfur dioxide</th>  <td>    0.2620</td> <td>    0.042</td> <td>    6.305</td> <td> 0.000</td> <td>    0.181</td> <td>    0.343</td>\n",
       "</tr>\n",
       "<tr>\n",
       "  <th>total sulfur dioxide</th> <td>   -0.2593</td> <td>    0.054</td> <td>   -4.836</td> <td> 0.000</td> <td>   -0.364</td> <td>   -0.154</td>\n",
       "</tr>\n",
       "<tr>\n",
       "  <th>density</th>              <td>   -0.3858</td> <td>    0.078</td> <td>   -4.968</td> <td> 0.000</td> <td>   -0.538</td> <td>   -0.234</td>\n",
       "</tr>\n",
       "<tr>\n",
       "  <th>pH</th>                   <td>    0.0962</td> <td>    0.030</td> <td>    3.243</td> <td> 0.001</td> <td>    0.038</td> <td>    0.154</td>\n",
       "</tr>\n",
       "<tr>\n",
       "  <th>sulphates</th>            <td>    0.2254</td> <td>    0.032</td> <td>    6.939</td> <td> 0.000</td> <td>    0.162</td> <td>    0.289</td>\n",
       "</tr>\n",
       "<tr>\n",
       "  <th>alcohol</th>              <td>    0.9324</td> <td>    0.048</td> <td>   19.501</td> <td> 0.000</td> <td>    0.839</td> <td>    1.026</td>\n",
       "</tr>\n",
       "<tr>\n",
       "  <th>wine_color</th>           <td>   -0.3219</td> <td>    0.070</td> <td>   -4.597</td> <td> 0.000</td> <td>   -0.459</td> <td>   -0.185</td>\n",
       "</tr>\n",
       "<tr>\n",
       "  <th>3/4</th>                  <td>   -6.3863</td> <td>    0.233</td> <td>  -27.376</td> <td> 0.000</td> <td>   -6.844</td> <td>   -5.929</td>\n",
       "</tr>\n",
       "<tr>\n",
       "  <th>4/5</th>                  <td>    0.8892</td> <td>    0.091</td> <td>    9.796</td> <td> 0.000</td> <td>    0.711</td> <td>    1.067</td>\n",
       "</tr>\n",
       "<tr>\n",
       "  <th>5/6</th>                  <td>    1.1695</td> <td>    0.025</td> <td>   47.085</td> <td> 0.000</td> <td>    1.121</td> <td>    1.218</td>\n",
       "</tr>\n",
       "<tr>\n",
       "  <th>6/7</th>                  <td>    0.9501</td> <td>    0.019</td> <td>   48.942</td> <td> 0.000</td> <td>    0.912</td> <td>    0.988</td>\n",
       "</tr>\n",
       "<tr>\n",
       "  <th>7/8</th>                  <td>    0.8473</td> <td>    0.035</td> <td>   24.398</td> <td> 0.000</td> <td>    0.779</td> <td>    0.915</td>\n",
       "</tr>\n",
       "<tr>\n",
       "  <th>8/9</th>                  <td>    1.6397</td> <td>    0.194</td> <td>    8.446</td> <td> 0.000</td> <td>    1.259</td> <td>    2.020</td>\n",
       "</tr>\n",
       "</table>"
      ],
      "text/plain": [
       "<class 'statsmodels.iolib.summary.Summary'>\n",
       "\"\"\"\n",
       "                             OrderedModel Results                             \n",
       "==============================================================================\n",
       "Dep. Variable:                quality   Log-Likelihood:                -5634.8\n",
       "Model:                   OrderedModel   AIC:                         1.130e+04\n",
       "Method:            Maximum Likelihood   BIC:                         1.140e+04\n",
       "Date:                Mon, 25 Apr 2022                                         \n",
       "Time:                        18:35:21                                         \n",
       "No. Observations:                5197                                         \n",
       "Df Residuals:                    5182                                         \n",
       "Df Model:                          15                                         \n",
       "========================================================================================\n",
       "                           coef    std err          z      P>|z|      [0.025      0.975]\n",
       "----------------------------------------------------------------------------------------\n",
       "volatile acidity        -0.7067      0.039    -18.171      0.000      -0.783      -0.631\n",
       "residual sugar           0.5320      0.058      9.209      0.000       0.419       0.645\n",
       "free sulfur dioxide      0.2620      0.042      6.305      0.000       0.181       0.343\n",
       "total sulfur dioxide    -0.2593      0.054     -4.836      0.000      -0.364      -0.154\n",
       "density                 -0.3858      0.078     -4.968      0.000      -0.538      -0.234\n",
       "pH                       0.0962      0.030      3.243      0.001       0.038       0.154\n",
       "sulphates                0.2254      0.032      6.939      0.000       0.162       0.289\n",
       "alcohol                  0.9324      0.048     19.501      0.000       0.839       1.026\n",
       "wine_color              -0.3219      0.070     -4.597      0.000      -0.459      -0.185\n",
       "3/4                     -6.3863      0.233    -27.376      0.000      -6.844      -5.929\n",
       "4/5                      0.8892      0.091      9.796      0.000       0.711       1.067\n",
       "5/6                      1.1695      0.025     47.085      0.000       1.121       1.218\n",
       "6/7                      0.9501      0.019     48.942      0.000       0.912       0.988\n",
       "7/8                      0.8473      0.035     24.398      0.000       0.779       0.915\n",
       "8/9                      1.6397      0.194      8.446      0.000       1.259       2.020\n",
       "========================================================================================\n",
       "\"\"\""
      ]
     },
     "execution_count": 26,
     "metadata": {},
     "output_type": "execute_result"
    }
   ],
   "source": [
    "mod_prob = OrderedModel(y_train, df_scaled_X_train_nalco, distr='logit')\n",
    "res_prob = mod_prob.fit(method='bfgs', disp = False)\n",
    "res_prob.summary()    "
   ]
  },
  {
   "cell_type": "code",
   "execution_count": 27,
   "id": "cf2f1033",
   "metadata": {},
   "outputs": [],
   "source": [
    "predicted_nalco = res_prob.model.predict(res_prob.params, exog = np.array(df_scaled_X_test_nalco)[:, None])"
   ]
  },
  {
   "cell_type": "code",
   "execution_count": 28,
   "id": "b708dbe5",
   "metadata": {},
   "outputs": [],
   "source": [
    "rowmax = np.amax(predicted_nalco[:,0], axis = 1)"
   ]
  },
  {
   "cell_type": "code",
   "execution_count": 29,
   "id": "98007d48",
   "metadata": {},
   "outputs": [],
   "source": [
    "# Need to change back to 3 to 9 scale\n",
    "y_pred_nalco = []\n",
    "for i, r in enumerate(rowmax):\n",
    "    y_pred_nalco.append(list(predicted_nalco[i,0]).index(r)+3)"
   ]
  },
  {
   "cell_type": "code",
   "execution_count": 30,
   "id": "ab3db2c9",
   "metadata": {},
   "outputs": [
    {
     "data": {
      "text/plain": [
       "0.5361538461538462"
      ]
     },
     "execution_count": 30,
     "metadata": {},
     "output_type": "execute_result"
    }
   ],
   "source": [
    "# Using the list comparison what is the percentage of matches\n",
    "np.sum(y_test==y_pred_nalco)/len(y_test)"
   ]
  },
  {
   "cell_type": "code",
   "execution_count": 31,
   "id": "2f4913ca",
   "metadata": {},
   "outputs": [
    {
     "name": "stdout",
     "output_type": "stream",
     "text": [
      "[[[1289    0]\n",
      "  [  11    0]]\n",
      "\n",
      " [[1260    0]\n",
      "  [  39    1]]\n",
      "\n",
      " [[ 720  166]\n",
      "  [ 175  239]]\n",
      "\n",
      " [[ 342  379]\n",
      "  [ 163  416]]\n",
      "\n",
      " [[1027   57]\n",
      "  [ 175   41]]\n",
      "\n",
      " [[1263    1]\n",
      "  [  36    0]]\n",
      "\n",
      " [[1296    0]\n",
      "  [   4    0]]]\n",
      "Label: 3, Precision: 1.0000, Recall: 0.9915, Specificity: 0.0000, Accuracy: 0.9915, F1: 0.9957 \n",
      "Label: 4, Precision: 1.0000, Recall: 0.9700, Specificity: 1.0000, Accuracy: 0.9700, F1: 0.9848 \n",
      "Label: 5, Precision: 0.8126, Recall: 0.8045, Specificity: 0.5901, Accuracy: 0.7377, F1: 0.8085 \n",
      "Label: 6, Precision: 0.4743, Recall: 0.6772, Specificity: 0.5233, Accuracy: 0.5831, F1: 0.5579 \n",
      "Label: 7, Precision: 0.9474, Recall: 0.8544, Specificity: 0.4184, Accuracy: 0.8215, F1: 0.8985 \n",
      "Label: 8, Precision: 0.9992, Recall: 0.9723, Specificity: 0.0000, Accuracy: 0.9715, F1: 0.9856 \n",
      "Label: 9, Precision: 1.0000, Recall: 0.9969, Specificity: 0.0000, Accuracy: 0.9969, F1: 0.9984 \n"
     ]
    }
   ],
   "source": [
    "cf = multilabel_confusion_matrix(y_test, y_pred_nalco)\n",
    "print(cf)\n",
    "l =['3', '4', '5', '6', '7', '8', '9']\n",
    "mlstats(cf, l)"
   ]
  },
  {
   "cell_type": "code",
   "execution_count": 32,
   "id": "f38b180e",
   "metadata": {},
   "outputs": [
    {
     "data": {
      "text/html": [
       "<table class=\"simpletable\">\n",
       "<caption>OrderedModel Results</caption>\n",
       "<tr>\n",
       "  <th>Dep. Variable:</th>          <td>quality</td>      <th>  Log-Likelihood:    </th> <td> -5663.7</td> \n",
       "</tr>\n",
       "<tr>\n",
       "  <th>Model:</th>               <td>OrderedModel</td>    <th>  AIC:               </th> <td>1.137e+04</td>\n",
       "</tr>\n",
       "<tr>\n",
       "  <th>Method:</th>           <td>Maximum Likelihood</td> <th>  BIC:               </th> <td>1.149e+04</td>\n",
       "</tr>\n",
       "<tr>\n",
       "  <th>Date:</th>              <td>Mon, 25 Apr 2022</td>  <th>                     </th>     <td> </td>    \n",
       "</tr>\n",
       "<tr>\n",
       "  <th>Time:</th>                  <td>18:35:30</td>      <th>                     </th>     <td> </td>    \n",
       "</tr>\n",
       "<tr>\n",
       "  <th>No. Observations:</th>       <td>  5197</td>       <th>                     </th>     <td> </td>    \n",
       "</tr>\n",
       "<tr>\n",
       "  <th>Df Residuals:</th>           <td>  5178</td>       <th>                     </th>     <td> </td>    \n",
       "</tr>\n",
       "<tr>\n",
       "  <th>Df Model:</th>               <td>    19</td>       <th>                     </th>     <td> </td>    \n",
       "</tr>\n",
       "</table>\n",
       "<table class=\"simpletable\">\n",
       "<tr>\n",
       "            <td></td>              <th>coef</th>     <th>std err</th>      <th>z</th>      <th>P>|z|</th>  <th>[0.025</th>    <th>0.975]</th>  \n",
       "</tr>\n",
       "<tr>\n",
       "  <th>fixed acidity</th>        <td>    0.1558</td> <td>    0.034</td> <td>    4.600</td> <td> 0.000</td> <td>    0.089</td> <td>    0.222</td>\n",
       "</tr>\n",
       "<tr>\n",
       "  <th>volatile acidity</th>     <td>   -0.3877</td> <td>    0.023</td> <td>  -16.870</td> <td> 0.000</td> <td>   -0.433</td> <td>   -0.343</td>\n",
       "</tr>\n",
       "<tr>\n",
       "  <th>citric acid</th>          <td>   -0.0082</td> <td>    0.020</td> <td>   -0.417</td> <td> 0.676</td> <td>   -0.046</td> <td>    0.030</td>\n",
       "</tr>\n",
       "<tr>\n",
       "  <th>residual sugar</th>       <td>    0.4460</td> <td>    0.048</td> <td>    9.372</td> <td> 0.000</td> <td>    0.353</td> <td>    0.539</td>\n",
       "</tr>\n",
       "<tr>\n",
       "  <th>chlorides</th>            <td>   -0.0419</td> <td>    0.020</td> <td>   -2.125</td> <td> 0.034</td> <td>   -0.081</td> <td>   -0.003</td>\n",
       "</tr>\n",
       "<tr>\n",
       "  <th>free sulfur dioxide</th>  <td>    0.1282</td> <td>    0.023</td> <td>    5.672</td> <td> 0.000</td> <td>    0.084</td> <td>    0.172</td>\n",
       "</tr>\n",
       "<tr>\n",
       "  <th>total sulfur dioxide</th> <td>   -0.1254</td> <td>    0.030</td> <td>   -4.124</td> <td> 0.000</td> <td>   -0.185</td> <td>   -0.066</td>\n",
       "</tr>\n",
       "<tr>\n",
       "  <th>density</th>              <td>   -0.4748</td> <td>    0.071</td> <td>   -6.719</td> <td> 0.000</td> <td>   -0.613</td> <td>   -0.336</td>\n",
       "</tr>\n",
       "<tr>\n",
       "  <th>pH</th>                   <td>    0.1293</td> <td>    0.024</td> <td>    5.298</td> <td> 0.000</td> <td>    0.081</td> <td>    0.177</td>\n",
       "</tr>\n",
       "<tr>\n",
       "  <th>sulphates</th>            <td>    0.1448</td> <td>    0.019</td> <td>    7.645</td> <td> 0.000</td> <td>    0.108</td> <td>    0.182</td>\n",
       "</tr>\n",
       "<tr>\n",
       "  <th>alcohol</th>              <td>    2.3090</td> <td>    0.557</td> <td>    4.147</td> <td> 0.000</td> <td>    1.218</td> <td>    3.400</td>\n",
       "</tr>\n",
       "<tr>\n",
       "  <th>wine_color</th>           <td>   -0.2402</td> <td>    0.040</td> <td>   -5.945</td> <td> 0.000</td> <td>   -0.319</td> <td>   -0.161</td>\n",
       "</tr>\n",
       "<tr>\n",
       "  <th>logalco</th>              <td>   -1.9277</td> <td>    0.557</td> <td>   -3.463</td> <td> 0.001</td> <td>   -3.019</td> <td>   -0.837</td>\n",
       "</tr>\n",
       "<tr>\n",
       "  <th>3/4</th>                  <td>   -3.1326</td> <td>    0.083</td> <td>  -37.951</td> <td> 0.000</td> <td>   -3.294</td> <td>   -2.971</td>\n",
       "</tr>\n",
       "<tr>\n",
       "  <th>4/5</th>                  <td>   -0.0248</td> <td>    0.080</td> <td>   -0.309</td> <td> 0.757</td> <td>   -0.182</td> <td>    0.133</td>\n",
       "</tr>\n",
       "<tr>\n",
       "  <th>5/6</th>                  <td>    0.5463</td> <td>    0.022</td> <td>   24.786</td> <td> 0.000</td> <td>    0.503</td> <td>    0.590</td>\n",
       "</tr>\n",
       "<tr>\n",
       "  <th>6/7</th>                  <td>    0.4067</td> <td>    0.018</td> <td>   22.522</td> <td> 0.000</td> <td>    0.371</td> <td>    0.442</td>\n",
       "</tr>\n",
       "<tr>\n",
       "  <th>7/8</th>                  <td>    0.2102</td> <td>    0.032</td> <td>    6.620</td> <td> 0.000</td> <td>    0.148</td> <td>    0.272</td>\n",
       "</tr>\n",
       "<tr>\n",
       "  <th>8/9</th>                  <td>    0.6525</td> <td>    0.155</td> <td>    4.220</td> <td> 0.000</td> <td>    0.350</td> <td>    0.956</td>\n",
       "</tr>\n",
       "</table>"
      ],
      "text/plain": [
       "<class 'statsmodels.iolib.summary.Summary'>\n",
       "\"\"\"\n",
       "                             OrderedModel Results                             \n",
       "==============================================================================\n",
       "Dep. Variable:                quality   Log-Likelihood:                -5663.7\n",
       "Model:                   OrderedModel   AIC:                         1.137e+04\n",
       "Method:            Maximum Likelihood   BIC:                         1.149e+04\n",
       "Date:                Mon, 25 Apr 2022                                         \n",
       "Time:                        18:35:30                                         \n",
       "No. Observations:                5197                                         \n",
       "Df Residuals:                    5178                                         \n",
       "Df Model:                          19                                         \n",
       "========================================================================================\n",
       "                           coef    std err          z      P>|z|      [0.025      0.975]\n",
       "----------------------------------------------------------------------------------------\n",
       "fixed acidity            0.1558      0.034      4.600      0.000       0.089       0.222\n",
       "volatile acidity        -0.3877      0.023    -16.870      0.000      -0.433      -0.343\n",
       "citric acid             -0.0082      0.020     -0.417      0.676      -0.046       0.030\n",
       "residual sugar           0.4460      0.048      9.372      0.000       0.353       0.539\n",
       "chlorides               -0.0419      0.020     -2.125      0.034      -0.081      -0.003\n",
       "free sulfur dioxide      0.1282      0.023      5.672      0.000       0.084       0.172\n",
       "total sulfur dioxide    -0.1254      0.030     -4.124      0.000      -0.185      -0.066\n",
       "density                 -0.4748      0.071     -6.719      0.000      -0.613      -0.336\n",
       "pH                       0.1293      0.024      5.298      0.000       0.081       0.177\n",
       "sulphates                0.1448      0.019      7.645      0.000       0.108       0.182\n",
       "alcohol                  2.3090      0.557      4.147      0.000       1.218       3.400\n",
       "wine_color              -0.2402      0.040     -5.945      0.000      -0.319      -0.161\n",
       "logalco                 -1.9277      0.557     -3.463      0.001      -3.019      -0.837\n",
       "3/4                     -3.1326      0.083    -37.951      0.000      -3.294      -2.971\n",
       "4/5                     -0.0248      0.080     -0.309      0.757      -0.182       0.133\n",
       "5/6                      0.5463      0.022     24.786      0.000       0.503       0.590\n",
       "6/7                      0.4067      0.018     22.522      0.000       0.371       0.442\n",
       "7/8                      0.2102      0.032      6.620      0.000       0.148       0.272\n",
       "8/9                      0.6525      0.155      4.220      0.000       0.350       0.956\n",
       "========================================================================================\n",
       "\"\"\""
      ]
     },
     "execution_count": 32,
     "metadata": {},
     "output_type": "execute_result"
    }
   ],
   "source": [
    "# Let's retry with the probit kernel\n",
    "mod_prob_pro = OrderedModel(y_train, df_scaled_X_train, distr='probit')\n",
    "res_prob_pro = mod_prob_pro.fit(method='bfgs', disp = False)\n",
    "res_prob_pro.summary()"
   ]
  },
  {
   "cell_type": "code",
   "execution_count": 33,
   "id": "286d288b",
   "metadata": {},
   "outputs": [],
   "source": [
    "predicted_pro = res_prob_pro.model.predict(res_prob_pro.params, exog = np.array(df_scaled_X_test)[:, None])"
   ]
  },
  {
   "cell_type": "code",
   "execution_count": 34,
   "id": "aba9aea6",
   "metadata": {},
   "outputs": [],
   "source": [
    "rowmax_pro = np.amax(predicted_pro[:,0], axis = 1)"
   ]
  },
  {
   "cell_type": "code",
   "execution_count": 35,
   "id": "6da9c917",
   "metadata": {},
   "outputs": [],
   "source": [
    "# Need to change back to 3 to 9 scale\n",
    "y_pred_pro = []\n",
    "for i, r in enumerate(rowmax_pro):\n",
    "    y_pred_pro.append(list(predicted_pro[i,0]).index(r)+3)"
   ]
  },
  {
   "cell_type": "code",
   "execution_count": 36,
   "id": "3c42a330",
   "metadata": {},
   "outputs": [
    {
     "data": {
      "text/plain": [
       "0.53"
      ]
     },
     "execution_count": 36,
     "metadata": {},
     "output_type": "execute_result"
    }
   ],
   "source": [
    "# Using the list comparison what is the percentage of matches\n",
    "np.sum(y_test==y_pred_pro)/len(y_test)"
   ]
  },
  {
   "cell_type": "code",
   "execution_count": 37,
   "id": "4fac0f1d",
   "metadata": {},
   "outputs": [
    {
     "name": "stdout",
     "output_type": "stream",
     "text": [
      "Label: 3, Precision: 1.0000, Recall: 0.9915, Specificity: 0.0000, Accuracy: 0.9915, F1: 0.9957 \n",
      "Label: 4, Precision: 1.0000, Recall: 0.9692, Specificity: 0.0000, Accuracy: 0.9692, F1: 0.9844 \n",
      "Label: 5, Precision: 0.8296, Recall: 0.7980, Specificity: 0.6016, Accuracy: 0.7408, F1: 0.8135 \n",
      "Label: 6, Precision: 0.4313, Recall: 0.6703, Specificity: 0.5096, Accuracy: 0.5669, F1: 0.5249 \n",
      "Label: 7, Precision: 0.9557, Recall: 0.8506, Specificity: 0.4146, Accuracy: 0.8231, F1: 0.9001 \n",
      "Label: 8, Precision: 0.9984, Recall: 0.9730, Specificity: 0.3333, Accuracy: 0.9715, F1: 0.9855 \n",
      "Label: 9, Precision: 1.0000, Recall: 0.9969, Specificity: 0.0000, Accuracy: 0.9969, F1: 0.9984 \n"
     ]
    }
   ],
   "source": [
    "cf = multilabel_confusion_matrix(y_test, y_pred_pro)\n",
    "l =['3', '4', '5', '6', '7', '8', '9']\n",
    "mlstats(cf, l)"
   ]
  },
  {
   "cell_type": "markdown",
   "id": "10e66a37",
   "metadata": {},
   "source": [
    "This performs a little worse than the logit kernel and again the problem is with predicting when a wine is a 6.  The model underperforms in the middle of the range."
   ]
  },
  {
   "cell_type": "code",
   "execution_count": 38,
   "id": "e706111c",
   "metadata": {},
   "outputs": [
    {
     "data": {
      "text/html": [
       "<table class=\"simpletable\">\n",
       "<caption>OrderedModel Results</caption>\n",
       "<tr>\n",
       "  <th>Dep. Variable:</th>          <td>quality</td>      <th>  Log-Likelihood:    </th> <td> -5624.4</td> \n",
       "</tr>\n",
       "<tr>\n",
       "  <th>Model:</th>               <td>OrderedModel</td>    <th>  AIC:               </th> <td>1.128e+04</td>\n",
       "</tr>\n",
       "<tr>\n",
       "  <th>Method:</th>           <td>Maximum Likelihood</td> <th>  BIC:               </th> <td>1.139e+04</td>\n",
       "</tr>\n",
       "<tr>\n",
       "  <th>Date:</th>              <td>Mon, 25 Apr 2022</td>  <th>                     </th>     <td> </td>    \n",
       "</tr>\n",
       "<tr>\n",
       "  <th>Time:</th>                  <td>18:35:37</td>      <th>                     </th>     <td> </td>    \n",
       "</tr>\n",
       "<tr>\n",
       "  <th>No. Observations:</th>       <td>  5197</td>       <th>                     </th>     <td> </td>    \n",
       "</tr>\n",
       "<tr>\n",
       "  <th>Df Residuals:</th>           <td>  5181</td>       <th>                     </th>     <td> </td>    \n",
       "</tr>\n",
       "<tr>\n",
       "  <th>Df Model:</th>               <td>    16</td>       <th>                     </th>     <td> </td>    \n",
       "</tr>\n",
       "</table>\n",
       "<table class=\"simpletable\">\n",
       "<tr>\n",
       "            <td></td>              <th>coef</th>     <th>std err</th>      <th>z</th>      <th>P>|z|</th>  <th>[0.025</th>    <th>0.975]</th>  \n",
       "</tr>\n",
       "<tr>\n",
       "  <th>fixed acidity</th>        <td>    0.3149</td> <td>    0.063</td> <td>    4.982</td> <td> 0.000</td> <td>    0.191</td> <td>    0.439</td>\n",
       "</tr>\n",
       "<tr>\n",
       "  <th>volatile acidity</th>     <td>   -0.6722</td> <td>    0.039</td> <td>  -17.060</td> <td> 0.000</td> <td>   -0.749</td> <td>   -0.595</td>\n",
       "</tr>\n",
       "<tr>\n",
       "  <th>residual sugar</th>       <td>    0.8753</td> <td>    0.089</td> <td>    9.860</td> <td> 0.000</td> <td>    0.701</td> <td>    1.049</td>\n",
       "</tr>\n",
       "<tr>\n",
       "  <th>free sulfur dioxide</th>  <td>    0.2622</td> <td>    0.042</td> <td>    6.304</td> <td> 0.000</td> <td>    0.181</td> <td>    0.344</td>\n",
       "</tr>\n",
       "<tr>\n",
       "  <th>total sulfur dioxide</th> <td>   -0.2375</td> <td>    0.054</td> <td>   -4.404</td> <td> 0.000</td> <td>   -0.343</td> <td>   -0.132</td>\n",
       "</tr>\n",
       "<tr>\n",
       "  <th>density</th>              <td>   -0.9553</td> <td>    0.141</td> <td>   -6.766</td> <td> 0.000</td> <td>   -1.232</td> <td>   -0.679</td>\n",
       "</tr>\n",
       "<tr>\n",
       "  <th>pH</th>                   <td>    0.2574</td> <td>    0.044</td> <td>    5.828</td> <td> 0.000</td> <td>    0.171</td> <td>    0.344</td>\n",
       "</tr>\n",
       "<tr>\n",
       "  <th>sulphates</th>            <td>    0.2566</td> <td>    0.033</td> <td>    7.760</td> <td> 0.000</td> <td>    0.192</td> <td>    0.321</td>\n",
       "</tr>\n",
       "<tr>\n",
       "  <th>wine_color</th>           <td>   -0.4241</td> <td>    0.075</td> <td>   -5.649</td> <td> 0.000</td> <td>   -0.571</td> <td>   -0.277</td>\n",
       "</tr>\n",
       "<tr>\n",
       "  <th>logalco</th>              <td>    0.6874</td> <td>    0.070</td> <td>    9.756</td> <td> 0.000</td> <td>    0.549</td> <td>    0.825</td>\n",
       "</tr>\n",
       "<tr>\n",
       "  <th>3/4</th>                  <td>   -6.3874</td> <td>    0.233</td> <td>  -27.413</td> <td> 0.000</td> <td>   -6.844</td> <td>   -5.931</td>\n",
       "</tr>\n",
       "<tr>\n",
       "  <th>4/5</th>                  <td>    0.8876</td> <td>    0.091</td> <td>    9.774</td> <td> 0.000</td> <td>    0.710</td> <td>    1.066</td>\n",
       "</tr>\n",
       "<tr>\n",
       "  <th>5/6</th>                  <td>    1.1694</td> <td>    0.025</td> <td>   47.172</td> <td> 0.000</td> <td>    1.121</td> <td>    1.218</td>\n",
       "</tr>\n",
       "<tr>\n",
       "  <th>6/7</th>                  <td>    0.9553</td> <td>    0.019</td> <td>   49.097</td> <td> 0.000</td> <td>    0.917</td> <td>    0.993</td>\n",
       "</tr>\n",
       "<tr>\n",
       "  <th>7/8</th>                  <td>    0.8466</td> <td>    0.035</td> <td>   24.410</td> <td> 0.000</td> <td>    0.779</td> <td>    0.915</td>\n",
       "</tr>\n",
       "<tr>\n",
       "  <th>8/9</th>                  <td>    1.6385</td> <td>    0.194</td> <td>    8.449</td> <td> 0.000</td> <td>    1.258</td> <td>    2.019</td>\n",
       "</tr>\n",
       "</table>"
      ],
      "text/plain": [
       "<class 'statsmodels.iolib.summary.Summary'>\n",
       "\"\"\"\n",
       "                             OrderedModel Results                             \n",
       "==============================================================================\n",
       "Dep. Variable:                quality   Log-Likelihood:                -5624.4\n",
       "Model:                   OrderedModel   AIC:                         1.128e+04\n",
       "Method:            Maximum Likelihood   BIC:                         1.139e+04\n",
       "Date:                Mon, 25 Apr 2022                                         \n",
       "Time:                        18:35:37                                         \n",
       "No. Observations:                5197                                         \n",
       "Df Residuals:                    5181                                         \n",
       "Df Model:                          16                                         \n",
       "========================================================================================\n",
       "                           coef    std err          z      P>|z|      [0.025      0.975]\n",
       "----------------------------------------------------------------------------------------\n",
       "fixed acidity            0.3149      0.063      4.982      0.000       0.191       0.439\n",
       "volatile acidity        -0.6722      0.039    -17.060      0.000      -0.749      -0.595\n",
       "residual sugar           0.8753      0.089      9.860      0.000       0.701       1.049\n",
       "free sulfur dioxide      0.2622      0.042      6.304      0.000       0.181       0.344\n",
       "total sulfur dioxide    -0.2375      0.054     -4.404      0.000      -0.343      -0.132\n",
       "density                 -0.9553      0.141     -6.766      0.000      -1.232      -0.679\n",
       "pH                       0.2574      0.044      5.828      0.000       0.171       0.344\n",
       "sulphates                0.2566      0.033      7.760      0.000       0.192       0.321\n",
       "wine_color              -0.4241      0.075     -5.649      0.000      -0.571      -0.277\n",
       "logalco                  0.6874      0.070      9.756      0.000       0.549       0.825\n",
       "3/4                     -6.3874      0.233    -27.413      0.000      -6.844      -5.931\n",
       "4/5                      0.8876      0.091      9.774      0.000       0.710       1.066\n",
       "5/6                      1.1694      0.025     47.172      0.000       1.121       1.218\n",
       "6/7                      0.9553      0.019     49.097      0.000       0.917       0.993\n",
       "7/8                      0.8466      0.035     24.410      0.000       0.779       0.915\n",
       "8/9                      1.6385      0.194      8.449      0.000       1.258       2.019\n",
       "========================================================================================\n",
       "\"\"\""
      ]
     },
     "execution_count": 38,
     "metadata": {},
     "output_type": "execute_result"
    }
   ],
   "source": [
    "# Logit Model First\n",
    "# with Log of Alcohol and without alcohol, citric acid, and chlorides\n",
    "df_scaled_X_train_loga = df_scaled_X_train.drop(['alcohol', 'citric acid', 'chlorides'], axis = 1, inplace = False)\n",
    "df_scaled_X_test_loga = df_scaled_X_test.drop(['alcohol', 'citric acid', 'chlorides'], axis = 1, inplace = False)\n",
    "\n",
    "mod_prob_loga = OrderedModel(y_train, df_scaled_X_train_loga, distr='logit')\n",
    "res_prob_loga = mod_prob_loga.fit(method='bfgs', disp =False)\n",
    "res_prob_loga.summary()"
   ]
  },
  {
   "cell_type": "code",
   "execution_count": 39,
   "id": "e0ec59ad",
   "metadata": {},
   "outputs": [],
   "source": [
    "predicted_loga = res_prob_loga.model.predict(res_prob_loga.params, exog = np.array(df_scaled_X_test_loga)[:, None])"
   ]
  },
  {
   "cell_type": "code",
   "execution_count": 40,
   "id": "cd241c82",
   "metadata": {},
   "outputs": [],
   "source": [
    "rowmax_loga = np.amax(predicted_loga[:,0], axis = 1)"
   ]
  },
  {
   "cell_type": "code",
   "execution_count": 41,
   "id": "d90c085c",
   "metadata": {},
   "outputs": [],
   "source": [
    "y_pred_loga = []\n",
    "for i, r in enumerate(rowmax_loga):\n",
    "    y_pred_loga.append(list(predicted_loga[i,0]).index(r)+3)"
   ]
  },
  {
   "cell_type": "code",
   "execution_count": 42,
   "id": "dd9c6921",
   "metadata": {},
   "outputs": [
    {
     "data": {
      "text/plain": [
       "0.5253846153846153"
      ]
     },
     "execution_count": 42,
     "metadata": {},
     "output_type": "execute_result"
    }
   ],
   "source": [
    "# Using the list comparison what is the percentage of matches\n",
    "np.sum(y_test==y_pred_loga)/len(y_test)"
   ]
  },
  {
   "cell_type": "code",
   "execution_count": 43,
   "id": "41138a60",
   "metadata": {},
   "outputs": [
    {
     "name": "stdout",
     "output_type": "stream",
     "text": [
      "Label: 3, Precision: 1.0000, Recall: 0.9915, Specificity: 0.0000, Accuracy: 0.9915, F1: 0.9957 \n",
      "Label: 4, Precision: 1.0000, Recall: 0.9692, Specificity: 0.0000, Accuracy: 0.9692, F1: 0.9844 \n",
      "Label: 5, Precision: 0.8036, Recall: 0.8000, Specificity: 0.5756, Accuracy: 0.7292, F1: 0.8018 \n",
      "Label: 6, Precision: 0.4674, Recall: 0.6634, Specificity: 0.5152, Accuracy: 0.5731, F1: 0.5484 \n",
      "Label: 7, Precision: 0.9456, Recall: 0.8527, Specificity: 0.3980, Accuracy: 0.8185, F1: 0.8968 \n",
      "Label: 8, Precision: 1.0000, Recall: 0.9723, Specificity: 0.0000, Accuracy: 0.9723, F1: 0.9860 \n",
      "Label: 9, Precision: 1.0000, Recall: 0.9969, Specificity: 0.0000, Accuracy: 0.9969, F1: 0.9984 \n"
     ]
    }
   ],
   "source": [
    "cf = multilabel_confusion_matrix(y_test, y_pred_loga)\n",
    "l =['3', '4', '5', '6', '7', '8', '9']\n",
    "mlstats(cf, l)"
   ]
  },
  {
   "cell_type": "code",
   "execution_count": 44,
   "id": "5f1bfd38",
   "metadata": {},
   "outputs": [],
   "source": [
    "# This performed worse\n",
    "# Now let's look at Random Forest Regression\n",
    "from orf import OrderedForest"
   ]
  },
  {
   "cell_type": "code",
   "execution_count": 45,
   "id": "9320e9da",
   "metadata": {},
   "outputs": [],
   "source": [
    "x_cols = list(wine_qual.columns)\n",
    "x_cols.remove('quality')\n",
    "y = wine_qual['quality']\n",
    "X = pd.DataFrame(wine_qual[x_cols])\n",
    "X['strat'] = str(y)+str(X['wine_color'])\n",
    "X_train, X_test, y_train, y_test = train_test_split(X, y,stratify= X['strat'], random_state = 42, \\\n",
    "                                                    test_size=0.20)\n",
    "X_train = X_train.drop('strat', axis = 1)\n",
    "X_test = X_test.drop('strat', axis = 1)\n",
    "\n",
    "s = StandardScaler()\n",
    "\n",
    "scaled_X_train = s.fit_transform(X_train)\n",
    "df_scaled_X_train = pd.DataFrame(scaled_X_train, index=X_train.index, columns=x_cols)\n",
    "\n",
    "scaled_X_test = s.fit_transform(X_test)\n",
    "df_scaled_X_test = pd.DataFrame(scaled_X_test, index=X_test.index, columns=x_cols)\n"
   ]
  },
  {
   "cell_type": "code",
   "execution_count": 46,
   "id": "bed69bb4",
   "metadata": {},
   "outputs": [
    {
     "data": {
      "text/plain": [
       "RandomForestRegressor(max_depth=2, random_state=0)"
      ]
     },
     "execution_count": 46,
     "metadata": {},
     "output_type": "execute_result"
    }
   ],
   "source": [
    "from sklearn.model_selection import GridSearchCV\n",
    "from sklearn.ensemble import RandomForestRegressor\n",
    "regr = RandomForestRegressor(max_depth=2, random_state=0)\n",
    "regr.fit(df_scaled_X_train, y_train)\n"
   ]
  },
  {
   "cell_type": "code",
   "execution_count": 47,
   "id": "94f96c9a",
   "metadata": {},
   "outputs": [],
   "source": [
    "y_pred = regr.predict(df_scaled_X_test)"
   ]
  },
  {
   "cell_type": "code",
   "execution_count": 48,
   "id": "c1470036",
   "metadata": {},
   "outputs": [],
   "source": [
    "y_pred = np.round(y_pred,0)"
   ]
  },
  {
   "cell_type": "code",
   "execution_count": 49,
   "id": "5d508b9d",
   "metadata": {},
   "outputs": [
    {
     "name": "stdout",
     "output_type": "stream",
     "text": [
      "[5. 5. 6. 6. 5. 6. 5. 5. 5. 6.]\n"
     ]
    }
   ],
   "source": [
    "print(y_pred[:10])"
   ]
  },
  {
   "cell_type": "code",
   "execution_count": 50,
   "id": "3926af97",
   "metadata": {},
   "outputs": [
    {
     "data": {
      "text/plain": [
       "0.5161538461538462"
      ]
     },
     "execution_count": 50,
     "metadata": {},
     "output_type": "execute_result"
    }
   ],
   "source": [
    "np.sum(y_test==y_pred)/len(y_test)"
   ]
  },
  {
   "cell_type": "code",
   "execution_count": 51,
   "id": "038156e4",
   "metadata": {},
   "outputs": [],
   "source": [
    "# Number of trees in random forest\n",
    "n_estimators = [int(x) for x in np.linspace(start = 10, stop = 150, num = 10)]\n",
    "# Number of features to consider at every split\n",
    "max_features = ['auto']\n",
    "# Maximum number of levels in tree\n",
    "max_depth = [int(x) for x in np.linspace(10, 110, num = 10)]\n",
    "max_depth.append(None)\n",
    "# Minimum number of samples required to split a node\n",
    "min_samples_split = [2, 5, 10]\n",
    "# Minimum number of samples required at each leaf node\n",
    "min_samples_leaf = [1, 2, 4]\n",
    "# Method of selecting samples for training each tree\n",
    "bootstrap = [True]\n",
    "# Create the random grid\n",
    "param_grid = {'n_estimators': n_estimators,\n",
    "               'max_features': max_features,\n",
    "               'max_depth': max_depth,\n",
    "               'min_samples_split': min_samples_split,\n",
    "               'min_samples_leaf': min_samples_leaf,\n",
    "               'bootstrap': bootstrap}"
   ]
  },
  {
   "cell_type": "code",
   "execution_count": 52,
   "id": "e3777620",
   "metadata": {},
   "outputs": [
    {
     "data": {
      "text/plain": [
       "GridSearchCV(cv=5, estimator=RandomForestRegressor(),\n",
       "             param_grid={'bootstrap': [True],\n",
       "                         'max_depth': [10, 21, 32, 43, 54, 65, 76, 87, 98, 110,\n",
       "                                       None],\n",
       "                         'max_features': ['auto'],\n",
       "                         'min_samples_leaf': [1, 2, 4],\n",
       "                         'min_samples_split': [2, 5, 10],\n",
       "                         'n_estimators': [10, 25, 41, 56, 72, 87, 103, 118, 134,\n",
       "                                          150]})"
      ]
     },
     "execution_count": 52,
     "metadata": {},
     "output_type": "execute_result"
    }
   ],
   "source": [
    "regr = RandomForestRegressor()\n",
    "rf_cv = GridSearchCV(regr, param_grid, cv=5)\n",
    "rf_cv.fit(df_scaled_X_train, y_train)"
   ]
  },
  {
   "cell_type": "code",
   "execution_count": 53,
   "id": "a18c7425",
   "metadata": {},
   "outputs": [
    {
     "name": "stdout",
     "output_type": "stream",
     "text": [
      "Best Score:0.5112807589950458\n",
      "Best Parameters: {'bootstrap': True, 'max_depth': 43, 'max_features': 'auto', 'min_samples_leaf': 1, 'min_samples_split': 2, 'n_estimators': 134}\n"
     ]
    }
   ],
   "source": [
    "print(\"Best Score:\" + str(rf_cv.best_score_))\n",
    "print(\"Best Parameters: \" + str(rf_cv.best_params_))"
   ]
  },
  {
   "cell_type": "code",
   "execution_count": 56,
   "id": "cf9ce3e8",
   "metadata": {},
   "outputs": [
    {
     "data": {
      "text/plain": [
       "RandomForestRegressor(max_depth=43, n_estimators=134)"
      ]
     },
     "execution_count": 56,
     "metadata": {},
     "output_type": "execute_result"
    }
   ],
   "source": [
    "best_params = {'bootstrap': True, 'max_depth': 43, 'max_features': 'auto', 'min_samples_leaf': 1, 'min_samples_split': 2, 'n_estimators': 134}\n",
    "regr_best = RandomForestRegressor(bootstrap = True, max_depth= 43, max_features='auto', min_samples_leaf= 1, min_samples_split=2, n_estimators= 134)\n",
    "regr_best.fit(df_scaled_X_train, y_train)\n"
   ]
  },
  {
   "cell_type": "code",
   "execution_count": 57,
   "id": "43e227db",
   "metadata": {},
   "outputs": [],
   "source": [
    "y_pred = regr_best.predict(df_scaled_X_test)"
   ]
  },
  {
   "cell_type": "code",
   "execution_count": 58,
   "id": "f9bdf427",
   "metadata": {},
   "outputs": [],
   "source": [
    "y_pred = np.round(y_pred,0)"
   ]
  },
  {
   "cell_type": "code",
   "execution_count": 59,
   "id": "22226db3",
   "metadata": {},
   "outputs": [
    {
     "data": {
      "text/plain": [
       "0.6376923076923077"
      ]
     },
     "execution_count": 59,
     "metadata": {},
     "output_type": "execute_result"
    }
   ],
   "source": [
    "np.sum(y_test==y_pred)/len(y_test)"
   ]
  },
  {
   "cell_type": "markdown",
   "id": "88894630",
   "metadata": {},
   "source": [
    "#### Tuning the parameters improved the random tree dramatically!!  This model is better than the ordered logistic."
   ]
  },
  {
   "cell_type": "code",
   "execution_count": null,
   "id": "77f9217e",
   "metadata": {},
   "outputs": [],
   "source": []
  }
 ],
 "metadata": {
  "kernelspec": {
   "display_name": "Python 3 (ipykernel)",
   "language": "python",
   "name": "python3"
  },
  "language_info": {
   "codemirror_mode": {
    "name": "ipython",
    "version": 3
   },
   "file_extension": ".py",
   "mimetype": "text/x-python",
   "name": "python",
   "nbconvert_exporter": "python",
   "pygments_lexer": "ipython3",
   "version": "3.8.13"
  }
 },
 "nbformat": 4,
 "nbformat_minor": 5
}
