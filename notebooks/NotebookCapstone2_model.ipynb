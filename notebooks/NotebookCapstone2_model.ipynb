{
 "cells": [
  {
   "cell_type": "markdown",
   "id": "9549efe0",
   "metadata": {},
   "source": [
    "<h3> In this notebook we will perform preprocessing of the total wine database including</h3>\n",
    "<ol>\n",
    "    <li> Creating dummy variables from categorical variables where needed </li>\n",
    "    <li> Scaling continuous variables</li>\n",
    "    <li> Split into a training and test test </li>\n",
    "    <li> Saving the pre-processed and split data into separate CSV files </li>\n",
    "</ol>"
   ]
  },
  {
   "cell_type": "code",
   "execution_count": 1,
   "id": "20d1fd59",
   "metadata": {},
   "outputs": [],
   "source": [
    "# Load Required Packages\n",
    "import pandas as pd\n",
    "import numpy as np\n",
    "import matplotlib.pyplot as plt\n",
    "import seaborn as sns\n",
    "from sklearn.model_selection import train_test_split\n",
    "from sklearn.preprocessing import StandardScaler, MinMaxScaler"
   ]
  },
  {
   "cell_type": "code",
   "execution_count": 156,
   "id": "aa2765af",
   "metadata": {},
   "outputs": [],
   "source": [
    "def mlstats(array, labels):\n",
    "    n = len(array)\n",
    "    for i in range(n):\n",
    "        tp = array[i][0,0]\n",
    "        tn = array[i][1,1]\n",
    "        fn = array[i][1,0]\n",
    "        fp = array[i][0,1]\n",
    "        try:\n",
    "            prec = round(tp/(tp + fp), 4)\n",
    "        except:\n",
    "            prec = np.nan\n",
    "        try:\n",
    "            recall = round(tp/(tp+fn), 4)\n",
    "        except:\n",
    "            recall = np.nan\n",
    "        if (fp + tn) != 0:\n",
    "            spec = round(tn / (fp + tn), 4)\n",
    "        else:\n",
    "            spec = 0\n",
    "        try:\n",
    "            acc = round((tp + tn) /(tp + tn +fp +fn), 4)\n",
    "        except:\n",
    "            acc = np.nan\n",
    "        try:\n",
    "            f1 = round(2* prec*recall/(prec + recall), 4)\n",
    "        except:\n",
    "            f1 = np.nan\n",
    "        l = labels[i]\n",
    "\n",
    "        print(f'Label: {l}, Precision: {prec:.4f}, Recall: {recall:.4f}, Specificity: {spec:.4f}, Accuracy: {acc:.4f}, F1: {f1:.4f} ')\n",
    "    return"
   ]
  },
  {
   "cell_type": "code",
   "execution_count": 2,
   "id": "feb64090",
   "metadata": {},
   "outputs": [],
   "source": [
    "# Load wine database files\n",
    "wine_qual = pd.read_csv('../data/WineQual.csv')"
   ]
  },
  {
   "cell_type": "code",
   "execution_count": 3,
   "id": "93d767f9",
   "metadata": {},
   "outputs": [
    {
     "data": {
      "text/html": [
       "<div>\n",
       "<style scoped>\n",
       "    .dataframe tbody tr th:only-of-type {\n",
       "        vertical-align: middle;\n",
       "    }\n",
       "\n",
       "    .dataframe tbody tr th {\n",
       "        vertical-align: top;\n",
       "    }\n",
       "\n",
       "    .dataframe thead th {\n",
       "        text-align: right;\n",
       "    }\n",
       "</style>\n",
       "<table border=\"1\" class=\"dataframe\">\n",
       "  <thead>\n",
       "    <tr style=\"text-align: right;\">\n",
       "      <th></th>\n",
       "      <th>fixed acidity</th>\n",
       "      <th>volatile acidity</th>\n",
       "      <th>citric acid</th>\n",
       "      <th>residual sugar</th>\n",
       "      <th>chlorides</th>\n",
       "      <th>free sulfur dioxide</th>\n",
       "      <th>total sulfur dioxide</th>\n",
       "      <th>density</th>\n",
       "      <th>pH</th>\n",
       "      <th>sulphates</th>\n",
       "      <th>alcohol</th>\n",
       "      <th>quality</th>\n",
       "      <th>wine_color</th>\n",
       "    </tr>\n",
       "  </thead>\n",
       "  <tbody>\n",
       "    <tr>\n",
       "      <th>0</th>\n",
       "      <td>7.0</td>\n",
       "      <td>0.27</td>\n",
       "      <td>0.36</td>\n",
       "      <td>20.7</td>\n",
       "      <td>0.045</td>\n",
       "      <td>45.0</td>\n",
       "      <td>170.0</td>\n",
       "      <td>1.0010</td>\n",
       "      <td>3.00</td>\n",
       "      <td>0.45</td>\n",
       "      <td>8.8</td>\n",
       "      <td>6</td>\n",
       "      <td>2</td>\n",
       "    </tr>\n",
       "    <tr>\n",
       "      <th>1</th>\n",
       "      <td>6.3</td>\n",
       "      <td>0.30</td>\n",
       "      <td>0.34</td>\n",
       "      <td>1.6</td>\n",
       "      <td>0.049</td>\n",
       "      <td>14.0</td>\n",
       "      <td>132.0</td>\n",
       "      <td>0.9940</td>\n",
       "      <td>3.30</td>\n",
       "      <td>0.49</td>\n",
       "      <td>9.5</td>\n",
       "      <td>6</td>\n",
       "      <td>2</td>\n",
       "    </tr>\n",
       "    <tr>\n",
       "      <th>2</th>\n",
       "      <td>8.1</td>\n",
       "      <td>0.28</td>\n",
       "      <td>0.40</td>\n",
       "      <td>6.9</td>\n",
       "      <td>0.050</td>\n",
       "      <td>30.0</td>\n",
       "      <td>97.0</td>\n",
       "      <td>0.9951</td>\n",
       "      <td>3.26</td>\n",
       "      <td>0.44</td>\n",
       "      <td>10.1</td>\n",
       "      <td>6</td>\n",
       "      <td>2</td>\n",
       "    </tr>\n",
       "    <tr>\n",
       "      <th>3</th>\n",
       "      <td>7.2</td>\n",
       "      <td>0.23</td>\n",
       "      <td>0.32</td>\n",
       "      <td>8.5</td>\n",
       "      <td>0.058</td>\n",
       "      <td>47.0</td>\n",
       "      <td>186.0</td>\n",
       "      <td>0.9956</td>\n",
       "      <td>3.19</td>\n",
       "      <td>0.40</td>\n",
       "      <td>9.9</td>\n",
       "      <td>6</td>\n",
       "      <td>2</td>\n",
       "    </tr>\n",
       "    <tr>\n",
       "      <th>4</th>\n",
       "      <td>7.2</td>\n",
       "      <td>0.23</td>\n",
       "      <td>0.32</td>\n",
       "      <td>8.5</td>\n",
       "      <td>0.058</td>\n",
       "      <td>47.0</td>\n",
       "      <td>186.0</td>\n",
       "      <td>0.9956</td>\n",
       "      <td>3.19</td>\n",
       "      <td>0.40</td>\n",
       "      <td>9.9</td>\n",
       "      <td>6</td>\n",
       "      <td>2</td>\n",
       "    </tr>\n",
       "  </tbody>\n",
       "</table>\n",
       "</div>"
      ],
      "text/plain": [
       "   fixed acidity  volatile acidity  citric acid  residual sugar  chlorides  \\\n",
       "0            7.0              0.27         0.36            20.7      0.045   \n",
       "1            6.3              0.30         0.34             1.6      0.049   \n",
       "2            8.1              0.28         0.40             6.9      0.050   \n",
       "3            7.2              0.23         0.32             8.5      0.058   \n",
       "4            7.2              0.23         0.32             8.5      0.058   \n",
       "\n",
       "   free sulfur dioxide  total sulfur dioxide  density    pH  sulphates  \\\n",
       "0                 45.0                 170.0   1.0010  3.00       0.45   \n",
       "1                 14.0                 132.0   0.9940  3.30       0.49   \n",
       "2                 30.0                  97.0   0.9951  3.26       0.44   \n",
       "3                 47.0                 186.0   0.9956  3.19       0.40   \n",
       "4                 47.0                 186.0   0.9956  3.19       0.40   \n",
       "\n",
       "   alcohol  quality  wine_color  \n",
       "0      8.8        6           2  \n",
       "1      9.5        6           2  \n",
       "2     10.1        6           2  \n",
       "3      9.9        6           2  \n",
       "4      9.9        6           2  "
      ]
     },
     "execution_count": 3,
     "metadata": {},
     "output_type": "execute_result"
    }
   ],
   "source": [
    "# Print out head\n",
    "wine_qual.head()"
   ]
  },
  {
   "cell_type": "code",
   "execution_count": 4,
   "id": "dfd808e6",
   "metadata": {},
   "outputs": [],
   "source": [
    "# Create explanatory and predictor variables\n",
    "x_cols = list(wine_qual.columns)\n",
    "x_cols.remove('quality')\n",
    "y = wine_qual['quality']\n",
    "X = wine_qual[x_cols]"
   ]
  },
  {
   "cell_type": "code",
   "execution_count": 5,
   "id": "e9a89db4",
   "metadata": {},
   "outputs": [],
   "source": [
    "# Create dummies and add back to data table\n",
    "# From before, red is 2 and white is 1\n",
    "# to make this a dummy variable, subtract 1 from the wine_color column to make red=1 and white=0\n",
    "# Quality is an ordinal variable where the higher the number the better the quality\n",
    "X = pd.get_dummies(X, drop_first = True)\n",
    "X.loc[:,'wine_color'] -= 1"
   ]
  },
  {
   "cell_type": "code",
   "execution_count": 6,
   "id": "437c7216",
   "metadata": {},
   "outputs": [],
   "source": [
    "# Create a stratification column out of y and wine_color\n",
    "X['strat'] = str(y)+str(X['wine_color'])"
   ]
  },
  {
   "cell_type": "code",
   "execution_count": 7,
   "id": "21127d52",
   "metadata": {},
   "outputs": [],
   "source": [
    "# Stratify along y,wine_color for test train split\n",
    "X_train, X_test, y_train, y_test = train_test_split(X, y,stratify= X['strat'], random_state = 42, \\\n",
    "                                                    test_size=0.20)"
   ]
  },
  {
   "cell_type": "code",
   "execution_count": 8,
   "id": "14388c1e",
   "metadata": {},
   "outputs": [],
   "source": [
    "# Drop the strat column\n",
    "X_train = X_train.drop('strat', axis = 1)\n",
    "X_test = X_test.drop('strat', axis = 1)"
   ]
  },
  {
   "cell_type": "code",
   "execution_count": 9,
   "id": "7ab9ea15",
   "metadata": {},
   "outputs": [],
   "source": [
    "# Perform standard scaler on training set and also apply this scaler to test set\n",
    "# To prevent leakage and because we learn something from the data when we scale, scaling should be done first\n",
    "# to training data and this scaler applied to the test data.\n",
    "s = StandardScaler()\n",
    "\n",
    "scaled_X_train = s.fit_transform(X_train)\n",
    "df_scaled_X_train = pd.DataFrame(scaled_X_train, index=X_train.index, columns=x_cols)\n",
    "\n",
    "scaled_X_test = s.fit_transform(X_test)\n",
    "df_scaled_X_test = pd.DataFrame(scaled_X_test, index=X_test.index, columns=x_cols)\n"
   ]
  },
  {
   "cell_type": "code",
   "execution_count": 10,
   "id": "3c60793b",
   "metadata": {},
   "outputs": [
    {
     "name": "stdout",
     "output_type": "stream",
     "text": [
      "      fixed acidity  volatile acidity  citric acid  residual sugar  chlorides  \\\n",
      "2735      -0.568366          0.049829    -0.255062        1.525725  -0.149819   \n",
      "2538      -1.025779         -0.368288    -1.222375        0.701338  -0.782279   \n",
      "3283      -0.492130         -0.846136    -1.222375       -0.209827   4.277402   \n",
      "722       -0.263423         -0.189095     0.159500       -0.817270  -0.782279   \n",
      "4805      -1.635664         -0.487750     0.159500        0.224061  -0.715704   \n",
      "\n",
      "      free sulfur dioxide  total sulfur dioxide   density        pH  \\\n",
      "2735             3.170889              1.720949  0.500601 -0.389360   \n",
      "2538            -0.015010              0.488247  0.237341  0.365739   \n",
      "3283             0.269445              0.939659 -0.255429 -1.836634   \n",
      "722             -0.413248              0.245178 -1.018210  0.932064   \n",
      "4805            -0.242575             -0.258320 -0.076547  0.051114   \n",
      "\n",
      "      sulphates   alcohol  wine_color  \n",
      "2735  -0.149138 -0.508151    0.591564  \n",
      "2538  -0.621685 -0.845763    0.591564  \n",
      "3283  -0.554179 -0.930167    0.591564  \n",
      "722   -0.419165  1.011107    0.591564  \n",
      "4805  -0.824206 -1.098973    0.591564  \n"
     ]
    }
   ],
   "source": [
    "print(df_scaled_X_test.head())"
   ]
  },
  {
   "cell_type": "markdown",
   "id": "83f13bea",
   "metadata": {},
   "source": [
    "<h3>This is the modeling step for the capstone project</h3>\n",
    "<ol>We will look at several models including:\n",
    "    <li>Ordinal Regression with various kernals</li>\n",
    "    <ol>\n",
    "        <li>Probit</li>\n",
    "        <li>Logit</li>\n",
    "        <li>One Customer Kernal</li>\n",
    "    </ol>\n",
    "    <li>Tree Regression</li>\n",
    "    <ol>\n",
    "        <li>Random Forest Regression</li>\n",
    "        <li>Other forest methodologies</li>\n",
    "    </ol>\n",
    "</ol>"
   ]
  },
  {
   "cell_type": "markdown",
   "id": "26c5c914",
   "metadata": {},
   "source": [
    "<h3>Load additional required packages</h3>"
   ]
  },
  {
   "cell_type": "code",
   "execution_count": 11,
   "id": "5b5b7010",
   "metadata": {},
   "outputs": [],
   "source": [
    "import scipy.stats as stats\n",
    "from statsmodels.miscmodels.ordinal_model import OrderedModel"
   ]
  },
  {
   "cell_type": "code",
   "execution_count": 17,
   "id": "d1d58a99",
   "metadata": {},
   "outputs": [
    {
     "data": {
      "text/html": [
       "<table class=\"simpletable\">\n",
       "<caption>OrderedModel Results</caption>\n",
       "<tr>\n",
       "  <th>Dep. Variable:</th>          <td>quality</td>      <th>  Log-Likelihood:    </th> <td> -5620.5</td> \n",
       "</tr>\n",
       "<tr>\n",
       "  <th>Model:</th>               <td>OrderedModel</td>    <th>  AIC:               </th> <td>1.128e+04</td>\n",
       "</tr>\n",
       "<tr>\n",
       "  <th>Method:</th>           <td>Maximum Likelihood</td> <th>  BIC:               </th> <td>1.139e+04</td>\n",
       "</tr>\n",
       "<tr>\n",
       "  <th>Date:</th>              <td>Wed, 20 Apr 2022</td>  <th>                     </th>     <td> </td>    \n",
       "</tr>\n",
       "<tr>\n",
       "  <th>Time:</th>                  <td>16:17:35</td>      <th>                     </th>     <td> </td>    \n",
       "</tr>\n",
       "<tr>\n",
       "  <th>No. Observations:</th>       <td>  5197</td>       <th>                     </th>     <td> </td>    \n",
       "</tr>\n",
       "<tr>\n",
       "  <th>Df Residuals:</th>           <td>  5180</td>       <th>                     </th>     <td> </td>    \n",
       "</tr>\n",
       "<tr>\n",
       "  <th>Df Model:</th>               <td>    17</td>       <th>                     </th>     <td> </td>    \n",
       "</tr>\n",
       "</table>\n",
       "<table class=\"simpletable\">\n",
       "<tr>\n",
       "            <td></td>              <th>coef</th>     <th>std err</th>      <th>z</th>      <th>P>|z|</th>  <th>[0.025</th>    <th>0.975]</th>  \n",
       "</tr>\n",
       "<tr>\n",
       "  <th>fixed acidity</th>        <td>    0.2930</td> <td>    0.063</td> <td>    4.623</td> <td> 0.000</td> <td>    0.169</td> <td>    0.417</td>\n",
       "</tr>\n",
       "<tr>\n",
       "  <th>volatile acidity</th>     <td>   -0.6697</td> <td>    0.040</td> <td>  -16.934</td> <td> 0.000</td> <td>   -0.747</td> <td>   -0.592</td>\n",
       "</tr>\n",
       "<tr>\n",
       "  <th>residual sugar</th>       <td>    0.8291</td> <td>    0.090</td> <td>    9.202</td> <td> 0.000</td> <td>    0.653</td> <td>    1.006</td>\n",
       "</tr>\n",
       "<tr>\n",
       "  <th>chlorides</th>            <td>   -0.0678</td> <td>    0.035</td> <td>   -1.946</td> <td> 0.052</td> <td>   -0.136</td> <td>    0.000</td>\n",
       "</tr>\n",
       "<tr>\n",
       "  <th>free sulfur dioxide</th>  <td>    0.2665</td> <td>    0.042</td> <td>    6.400</td> <td> 0.000</td> <td>    0.185</td> <td>    0.348</td>\n",
       "</tr>\n",
       "<tr>\n",
       "  <th>total sulfur dioxide</th> <td>   -0.2432</td> <td>    0.054</td> <td>   -4.506</td> <td> 0.000</td> <td>   -0.349</td> <td>   -0.137</td>\n",
       "</tr>\n",
       "<tr>\n",
       "  <th>density</th>              <td>   -0.8942</td> <td>    0.142</td> <td>   -6.293</td> <td> 0.000</td> <td>   -1.173</td> <td>   -0.616</td>\n",
       "</tr>\n",
       "<tr>\n",
       "  <th>pH</th>                   <td>    0.2386</td> <td>    0.045</td> <td>    5.336</td> <td> 0.000</td> <td>    0.151</td> <td>    0.326</td>\n",
       "</tr>\n",
       "<tr>\n",
       "  <th>sulphates</th>            <td>    0.2659</td> <td>    0.034</td> <td>    7.909</td> <td> 0.000</td> <td>    0.200</td> <td>    0.332</td>\n",
       "</tr>\n",
       "<tr>\n",
       "  <th>alcohol</th>              <td>    0.6977</td> <td>    0.070</td> <td>    9.942</td> <td> 0.000</td> <td>    0.560</td> <td>    0.835</td>\n",
       "</tr>\n",
       "<tr>\n",
       "  <th>wine_color</th>           <td>   -0.4294</td> <td>    0.076</td> <td>   -5.686</td> <td> 0.000</td> <td>   -0.577</td> <td>   -0.281</td>\n",
       "</tr>\n",
       "<tr>\n",
       "  <th>3/4</th>                  <td>   -6.3900</td> <td>    0.233</td> <td>  -27.406</td> <td> 0.000</td> <td>   -6.847</td> <td>   -5.933</td>\n",
       "</tr>\n",
       "<tr>\n",
       "  <th>4/5</th>                  <td>    0.8883</td> <td>    0.091</td> <td>    9.781</td> <td> 0.000</td> <td>    0.710</td> <td>    1.066</td>\n",
       "</tr>\n",
       "<tr>\n",
       "  <th>5/6</th>                  <td>    1.1693</td> <td>    0.025</td> <td>   47.161</td> <td> 0.000</td> <td>    1.121</td> <td>    1.218</td>\n",
       "</tr>\n",
       "<tr>\n",
       "  <th>6/7</th>                  <td>    0.9563</td> <td>    0.019</td> <td>   49.144</td> <td> 0.000</td> <td>    0.918</td> <td>    0.994</td>\n",
       "</tr>\n",
       "<tr>\n",
       "  <th>7/8</th>                  <td>    0.8490</td> <td>    0.035</td> <td>   24.488</td> <td> 0.000</td> <td>    0.781</td> <td>    0.917</td>\n",
       "</tr>\n",
       "<tr>\n",
       "  <th>8/9</th>                  <td>    1.6386</td> <td>    0.194</td> <td>    8.451</td> <td> 0.000</td> <td>    1.259</td> <td>    2.019</td>\n",
       "</tr>\n",
       "</table>"
      ],
      "text/plain": [
       "<class 'statsmodels.iolib.summary.Summary'>\n",
       "\"\"\"\n",
       "                             OrderedModel Results                             \n",
       "==============================================================================\n",
       "Dep. Variable:                quality   Log-Likelihood:                -5620.5\n",
       "Model:                   OrderedModel   AIC:                         1.128e+04\n",
       "Method:            Maximum Likelihood   BIC:                         1.139e+04\n",
       "Date:                Wed, 20 Apr 2022                                         \n",
       "Time:                        16:17:35                                         \n",
       "No. Observations:                5197                                         \n",
       "Df Residuals:                    5180                                         \n",
       "Df Model:                          17                                         \n",
       "========================================================================================\n",
       "                           coef    std err          z      P>|z|      [0.025      0.975]\n",
       "----------------------------------------------------------------------------------------\n",
       "fixed acidity            0.2930      0.063      4.623      0.000       0.169       0.417\n",
       "volatile acidity        -0.6697      0.040    -16.934      0.000      -0.747      -0.592\n",
       "residual sugar           0.8291      0.090      9.202      0.000       0.653       1.006\n",
       "chlorides               -0.0678      0.035     -1.946      0.052      -0.136       0.000\n",
       "free sulfur dioxide      0.2665      0.042      6.400      0.000       0.185       0.348\n",
       "total sulfur dioxide    -0.2432      0.054     -4.506      0.000      -0.349      -0.137\n",
       "density                 -0.8942      0.142     -6.293      0.000      -1.173      -0.616\n",
       "pH                       0.2386      0.045      5.336      0.000       0.151       0.326\n",
       "sulphates                0.2659      0.034      7.909      0.000       0.200       0.332\n",
       "alcohol                  0.6977      0.070      9.942      0.000       0.560       0.835\n",
       "wine_color              -0.4294      0.076     -5.686      0.000      -0.577      -0.281\n",
       "3/4                     -6.3900      0.233    -27.406      0.000      -6.847      -5.933\n",
       "4/5                      0.8883      0.091      9.781      0.000       0.710       1.066\n",
       "5/6                      1.1693      0.025     47.161      0.000       1.121       1.218\n",
       "6/7                      0.9563      0.019     49.144      0.000       0.918       0.994\n",
       "7/8                      0.8490      0.035     24.488      0.000       0.781       0.917\n",
       "8/9                      1.6386      0.194      8.451      0.000       1.259       2.019\n",
       "========================================================================================\n",
       "\"\"\""
      ]
     },
     "execution_count": 17,
     "metadata": {},
     "output_type": "execute_result"
    }
   ],
   "source": [
    "# Logit Model First\n",
    "mod_prob = OrderedModel(y_train, df_scaled_X_train, distr='logit')\n",
    "res_prob = mod_prob.fit(method='bfgs', disp =False)\n",
    "res_prob.summary()"
   ]
  },
  {
   "cell_type": "markdown",
   "id": "49f01be8",
   "metadata": {},
   "source": [
    "<h3>We should drop citric acid as it has a large p-value and is colinear with acidity</h3>"
   ]
  },
  {
   "cell_type": "code",
   "execution_count": 19,
   "id": "61fa9c5e",
   "metadata": {},
   "outputs": [
    {
     "name": "stdout",
     "output_type": "stream",
     "text": [
      "Citric acid already dropped\n"
     ]
    }
   ],
   "source": [
    "try:\n",
    "    df_scaled_X_train.drop('citric acid', inplace=True, axis=1)\n",
    "except:\n",
    "    print('Citric acid already dropped')"
   ]
  },
  {
   "cell_type": "markdown",
   "id": "9c1f318a",
   "metadata": {},
   "source": [
    "<h3>Re-run the model</h3>"
   ]
  },
  {
   "cell_type": "code",
   "execution_count": 20,
   "id": "4cb97fd1",
   "metadata": {},
   "outputs": [
    {
     "data": {
      "text/html": [
       "<table class=\"simpletable\">\n",
       "<caption>OrderedModel Results</caption>\n",
       "<tr>\n",
       "  <th>Dep. Variable:</th>          <td>quality</td>      <th>  Log-Likelihood:    </th> <td> -5620.5</td> \n",
       "</tr>\n",
       "<tr>\n",
       "  <th>Model:</th>               <td>OrderedModel</td>    <th>  AIC:               </th> <td>1.128e+04</td>\n",
       "</tr>\n",
       "<tr>\n",
       "  <th>Method:</th>           <td>Maximum Likelihood</td> <th>  BIC:               </th> <td>1.139e+04</td>\n",
       "</tr>\n",
       "<tr>\n",
       "  <th>Date:</th>              <td>Wed, 20 Apr 2022</td>  <th>                     </th>     <td> </td>    \n",
       "</tr>\n",
       "<tr>\n",
       "  <th>Time:</th>                  <td>16:18:57</td>      <th>                     </th>     <td> </td>    \n",
       "</tr>\n",
       "<tr>\n",
       "  <th>No. Observations:</th>       <td>  5197</td>       <th>                     </th>     <td> </td>    \n",
       "</tr>\n",
       "<tr>\n",
       "  <th>Df Residuals:</th>           <td>  5180</td>       <th>                     </th>     <td> </td>    \n",
       "</tr>\n",
       "<tr>\n",
       "  <th>Df Model:</th>               <td>    17</td>       <th>                     </th>     <td> </td>    \n",
       "</tr>\n",
       "</table>\n",
       "<table class=\"simpletable\">\n",
       "<tr>\n",
       "            <td></td>              <th>coef</th>     <th>std err</th>      <th>z</th>      <th>P>|z|</th>  <th>[0.025</th>    <th>0.975]</th>  \n",
       "</tr>\n",
       "<tr>\n",
       "  <th>fixed acidity</th>        <td>    0.2930</td> <td>    0.063</td> <td>    4.623</td> <td> 0.000</td> <td>    0.169</td> <td>    0.417</td>\n",
       "</tr>\n",
       "<tr>\n",
       "  <th>volatile acidity</th>     <td>   -0.6697</td> <td>    0.040</td> <td>  -16.934</td> <td> 0.000</td> <td>   -0.747</td> <td>   -0.592</td>\n",
       "</tr>\n",
       "<tr>\n",
       "  <th>residual sugar</th>       <td>    0.8291</td> <td>    0.090</td> <td>    9.202</td> <td> 0.000</td> <td>    0.653</td> <td>    1.006</td>\n",
       "</tr>\n",
       "<tr>\n",
       "  <th>chlorides</th>            <td>   -0.0678</td> <td>    0.035</td> <td>   -1.946</td> <td> 0.052</td> <td>   -0.136</td> <td>    0.000</td>\n",
       "</tr>\n",
       "<tr>\n",
       "  <th>free sulfur dioxide</th>  <td>    0.2665</td> <td>    0.042</td> <td>    6.400</td> <td> 0.000</td> <td>    0.185</td> <td>    0.348</td>\n",
       "</tr>\n",
       "<tr>\n",
       "  <th>total sulfur dioxide</th> <td>   -0.2432</td> <td>    0.054</td> <td>   -4.506</td> <td> 0.000</td> <td>   -0.349</td> <td>   -0.137</td>\n",
       "</tr>\n",
       "<tr>\n",
       "  <th>density</th>              <td>   -0.8942</td> <td>    0.142</td> <td>   -6.293</td> <td> 0.000</td> <td>   -1.173</td> <td>   -0.616</td>\n",
       "</tr>\n",
       "<tr>\n",
       "  <th>pH</th>                   <td>    0.2386</td> <td>    0.045</td> <td>    5.336</td> <td> 0.000</td> <td>    0.151</td> <td>    0.326</td>\n",
       "</tr>\n",
       "<tr>\n",
       "  <th>sulphates</th>            <td>    0.2659</td> <td>    0.034</td> <td>    7.909</td> <td> 0.000</td> <td>    0.200</td> <td>    0.332</td>\n",
       "</tr>\n",
       "<tr>\n",
       "  <th>alcohol</th>              <td>    0.6977</td> <td>    0.070</td> <td>    9.942</td> <td> 0.000</td> <td>    0.560</td> <td>    0.835</td>\n",
       "</tr>\n",
       "<tr>\n",
       "  <th>wine_color</th>           <td>   -0.4294</td> <td>    0.076</td> <td>   -5.686</td> <td> 0.000</td> <td>   -0.577</td> <td>   -0.281</td>\n",
       "</tr>\n",
       "<tr>\n",
       "  <th>3/4</th>                  <td>   -6.3900</td> <td>    0.233</td> <td>  -27.406</td> <td> 0.000</td> <td>   -6.847</td> <td>   -5.933</td>\n",
       "</tr>\n",
       "<tr>\n",
       "  <th>4/5</th>                  <td>    0.8883</td> <td>    0.091</td> <td>    9.781</td> <td> 0.000</td> <td>    0.710</td> <td>    1.066</td>\n",
       "</tr>\n",
       "<tr>\n",
       "  <th>5/6</th>                  <td>    1.1693</td> <td>    0.025</td> <td>   47.161</td> <td> 0.000</td> <td>    1.121</td> <td>    1.218</td>\n",
       "</tr>\n",
       "<tr>\n",
       "  <th>6/7</th>                  <td>    0.9563</td> <td>    0.019</td> <td>   49.144</td> <td> 0.000</td> <td>    0.918</td> <td>    0.994</td>\n",
       "</tr>\n",
       "<tr>\n",
       "  <th>7/8</th>                  <td>    0.8490</td> <td>    0.035</td> <td>   24.488</td> <td> 0.000</td> <td>    0.781</td> <td>    0.917</td>\n",
       "</tr>\n",
       "<tr>\n",
       "  <th>8/9</th>                  <td>    1.6386</td> <td>    0.194</td> <td>    8.451</td> <td> 0.000</td> <td>    1.259</td> <td>    2.019</td>\n",
       "</tr>\n",
       "</table>"
      ],
      "text/plain": [
       "<class 'statsmodels.iolib.summary.Summary'>\n",
       "\"\"\"\n",
       "                             OrderedModel Results                             \n",
       "==============================================================================\n",
       "Dep. Variable:                quality   Log-Likelihood:                -5620.5\n",
       "Model:                   OrderedModel   AIC:                         1.128e+04\n",
       "Method:            Maximum Likelihood   BIC:                         1.139e+04\n",
       "Date:                Wed, 20 Apr 2022                                         \n",
       "Time:                        16:18:57                                         \n",
       "No. Observations:                5197                                         \n",
       "Df Residuals:                    5180                                         \n",
       "Df Model:                          17                                         \n",
       "========================================================================================\n",
       "                           coef    std err          z      P>|z|      [0.025      0.975]\n",
       "----------------------------------------------------------------------------------------\n",
       "fixed acidity            0.2930      0.063      4.623      0.000       0.169       0.417\n",
       "volatile acidity        -0.6697      0.040    -16.934      0.000      -0.747      -0.592\n",
       "residual sugar           0.8291      0.090      9.202      0.000       0.653       1.006\n",
       "chlorides               -0.0678      0.035     -1.946      0.052      -0.136       0.000\n",
       "free sulfur dioxide      0.2665      0.042      6.400      0.000       0.185       0.348\n",
       "total sulfur dioxide    -0.2432      0.054     -4.506      0.000      -0.349      -0.137\n",
       "density                 -0.8942      0.142     -6.293      0.000      -1.173      -0.616\n",
       "pH                       0.2386      0.045      5.336      0.000       0.151       0.326\n",
       "sulphates                0.2659      0.034      7.909      0.000       0.200       0.332\n",
       "alcohol                  0.6977      0.070      9.942      0.000       0.560       0.835\n",
       "wine_color              -0.4294      0.076     -5.686      0.000      -0.577      -0.281\n",
       "3/4                     -6.3900      0.233    -27.406      0.000      -6.847      -5.933\n",
       "4/5                      0.8883      0.091      9.781      0.000       0.710       1.066\n",
       "5/6                      1.1693      0.025     47.161      0.000       1.121       1.218\n",
       "6/7                      0.9563      0.019     49.144      0.000       0.918       0.994\n",
       "7/8                      0.8490      0.035     24.488      0.000       0.781       0.917\n",
       "8/9                      1.6386      0.194      8.451      0.000       1.259       2.019\n",
       "========================================================================================\n",
       "\"\"\""
      ]
     },
     "execution_count": 20,
     "metadata": {},
     "output_type": "execute_result"
    }
   ],
   "source": [
    "# Without citric acid\n",
    "mod_prob = OrderedModel(y_train, df_scaled_X_train, distr='logit')\n",
    "res_prob = mod_prob.fit(method='bfgs', disp = False)\n",
    "res_prob.summary()"
   ]
  },
  {
   "cell_type": "code",
   "execution_count": 21,
   "id": "549f5508",
   "metadata": {},
   "outputs": [
    {
     "name": "stdout",
     "output_type": "stream",
     "text": [
      "Column citric acid already dropped\n"
     ]
    }
   ],
   "source": [
    "try:\n",
    "    df_scaled_X_test.drop('citric acid', inplace = True, axis = 1)\n",
    "except:\n",
    "    print('Column citric acid already dropped')\n",
    "    \n",
    "predicted = res_prob.model.predict(res_prob.params, exog = np.array(df_scaled_X_test)[:, None])\n"
   ]
  },
  {
   "cell_type": "code",
   "execution_count": 98,
   "id": "35333458",
   "metadata": {},
   "outputs": [],
   "source": [
    "rowmax = np.amax(predicted[:,0], axis = 1)"
   ]
  },
  {
   "cell_type": "code",
   "execution_count": 99,
   "id": "f024d1f7",
   "metadata": {},
   "outputs": [],
   "source": [
    "# Need to change back to 3 to 9 scale\n",
    "y_pred = []\n",
    "for i, r in enumerate(rowmax):\n",
    "    y_pred.append(list(predicted[i,0]).index(r)+3)\n",
    "    "
   ]
  },
  {
   "cell_type": "code",
   "execution_count": 100,
   "id": "502b5006",
   "metadata": {},
   "outputs": [
    {
     "data": {
      "text/plain": [
       "0.5292307692307693"
      ]
     },
     "execution_count": 100,
     "metadata": {},
     "output_type": "execute_result"
    }
   ],
   "source": [
    "# Using the list comparison what is the percentage of matches\n",
    "np.sum(y_test==y_pred)/len(y_test)"
   ]
  },
  {
   "cell_type": "code",
   "execution_count": 120,
   "id": "08c274ee",
   "metadata": {},
   "outputs": [],
   "source": [
    "# Let's look at the multiclass confusion matrix\n",
    "from sklearn.metrics import multilabel_confusion_matrix"
   ]
  },
  {
   "cell_type": "code",
   "execution_count": 121,
   "id": "5b0cdb15",
   "metadata": {},
   "outputs": [
    {
     "data": {
      "text/plain": [
       "array([[[1289,    0],\n",
       "        [  11,    0]],\n",
       "\n",
       "       [[1260,    0],\n",
       "        [  39,    1]],\n",
       "\n",
       "       [[ 720,  166],\n",
       "        [ 175,  239]],\n",
       "\n",
       "       [[ 342,  379],\n",
       "        [ 163,  416]],\n",
       "\n",
       "       [[1027,   57],\n",
       "        [ 175,   41]],\n",
       "\n",
       "       [[1263,    1],\n",
       "        [  36,    0]],\n",
       "\n",
       "       [[1296,    0],\n",
       "        [   4,    0]]], dtype=int64)"
      ]
     },
     "execution_count": 121,
     "metadata": {},
     "output_type": "execute_result"
    }
   ],
   "source": [
    "ml = multilabel_confusion_matrix(y_test, y_pred)\n",
    "print(ml)\n",
    "l =['3', '4', '5', '6', '7', '8', '9']\n",
    "mlstats(ml, l)"
   ]
  },
  {
   "cell_type": "code",
   "execution_count": 111,
   "id": "1cd3345e",
   "metadata": {},
   "outputs": [
    {
     "name": "stdout",
     "output_type": "stream",
     "text": [
      "Columns X_train already dropped\n",
      "Column from X_test already dropped\n"
     ]
    }
   ],
   "source": [
    "# Some room for improvement,  several of the acid measures are redundent, \n",
    "# let's drop them. And clorides is not significant\n",
    "\n",
    "try:\n",
    "    df_scaled_X_train.drop(['chlorides', 'fixed acidity'], inplace = True, axis = 1)\n",
    "except:\n",
    "    print('Columns from X_train already dropped')\n",
    "try:\n",
    "    df_scaled_X_test.drop(['chlorides', 'fixed acidity'], inplace = True, axis = 1)\n",
    "except:\n",
    "    print('Columns from X_test already dropped')\n"
   ]
  },
  {
   "cell_type": "code",
   "execution_count": 112,
   "id": "2df4cffa",
   "metadata": {},
   "outputs": [
    {
     "data": {
      "text/html": [
       "<table class=\"simpletable\">\n",
       "<caption>OrderedModel Results</caption>\n",
       "<tr>\n",
       "  <th>Dep. Variable:</th>          <td>quality</td>      <th>  Log-Likelihood:    </th> <td> -5634.8</td> \n",
       "</tr>\n",
       "<tr>\n",
       "  <th>Model:</th>               <td>OrderedModel</td>    <th>  AIC:               </th> <td>1.130e+04</td>\n",
       "</tr>\n",
       "<tr>\n",
       "  <th>Method:</th>           <td>Maximum Likelihood</td> <th>  BIC:               </th> <td>1.140e+04</td>\n",
       "</tr>\n",
       "<tr>\n",
       "  <th>Date:</th>              <td>Wed, 20 Apr 2022</td>  <th>                     </th>     <td> </td>    \n",
       "</tr>\n",
       "<tr>\n",
       "  <th>Time:</th>                  <td>18:10:31</td>      <th>                     </th>     <td> </td>    \n",
       "</tr>\n",
       "<tr>\n",
       "  <th>No. Observations:</th>       <td>  5197</td>       <th>                     </th>     <td> </td>    \n",
       "</tr>\n",
       "<tr>\n",
       "  <th>Df Residuals:</th>           <td>  5182</td>       <th>                     </th>     <td> </td>    \n",
       "</tr>\n",
       "<tr>\n",
       "  <th>Df Model:</th>               <td>    15</td>       <th>                     </th>     <td> </td>    \n",
       "</tr>\n",
       "</table>\n",
       "<table class=\"simpletable\">\n",
       "<tr>\n",
       "            <td></td>              <th>coef</th>     <th>std err</th>      <th>z</th>      <th>P>|z|</th>  <th>[0.025</th>    <th>0.975]</th>  \n",
       "</tr>\n",
       "<tr>\n",
       "  <th>volatile acidity</th>     <td>   -0.7067</td> <td>    0.039</td> <td>  -18.171</td> <td> 0.000</td> <td>   -0.783</td> <td>   -0.631</td>\n",
       "</tr>\n",
       "<tr>\n",
       "  <th>residual sugar</th>       <td>    0.5320</td> <td>    0.058</td> <td>    9.209</td> <td> 0.000</td> <td>    0.419</td> <td>    0.645</td>\n",
       "</tr>\n",
       "<tr>\n",
       "  <th>free sulfur dioxide</th>  <td>    0.2620</td> <td>    0.042</td> <td>    6.305</td> <td> 0.000</td> <td>    0.181</td> <td>    0.343</td>\n",
       "</tr>\n",
       "<tr>\n",
       "  <th>total sulfur dioxide</th> <td>   -0.2593</td> <td>    0.054</td> <td>   -4.836</td> <td> 0.000</td> <td>   -0.364</td> <td>   -0.154</td>\n",
       "</tr>\n",
       "<tr>\n",
       "  <th>density</th>              <td>   -0.3858</td> <td>    0.078</td> <td>   -4.968</td> <td> 0.000</td> <td>   -0.538</td> <td>   -0.234</td>\n",
       "</tr>\n",
       "<tr>\n",
       "  <th>pH</th>                   <td>    0.0962</td> <td>    0.030</td> <td>    3.243</td> <td> 0.001</td> <td>    0.038</td> <td>    0.154</td>\n",
       "</tr>\n",
       "<tr>\n",
       "  <th>sulphates</th>            <td>    0.2254</td> <td>    0.032</td> <td>    6.939</td> <td> 0.000</td> <td>    0.162</td> <td>    0.289</td>\n",
       "</tr>\n",
       "<tr>\n",
       "  <th>alcohol</th>              <td>    0.9324</td> <td>    0.048</td> <td>   19.501</td> <td> 0.000</td> <td>    0.839</td> <td>    1.026</td>\n",
       "</tr>\n",
       "<tr>\n",
       "  <th>wine_color</th>           <td>   -0.3219</td> <td>    0.070</td> <td>   -4.597</td> <td> 0.000</td> <td>   -0.459</td> <td>   -0.185</td>\n",
       "</tr>\n",
       "<tr>\n",
       "  <th>3/4</th>                  <td>   -6.3863</td> <td>    0.233</td> <td>  -27.376</td> <td> 0.000</td> <td>   -6.844</td> <td>   -5.929</td>\n",
       "</tr>\n",
       "<tr>\n",
       "  <th>4/5</th>                  <td>    0.8892</td> <td>    0.091</td> <td>    9.796</td> <td> 0.000</td> <td>    0.711</td> <td>    1.067</td>\n",
       "</tr>\n",
       "<tr>\n",
       "  <th>5/6</th>                  <td>    1.1695</td> <td>    0.025</td> <td>   47.085</td> <td> 0.000</td> <td>    1.121</td> <td>    1.218</td>\n",
       "</tr>\n",
       "<tr>\n",
       "  <th>6/7</th>                  <td>    0.9501</td> <td>    0.019</td> <td>   48.942</td> <td> 0.000</td> <td>    0.912</td> <td>    0.988</td>\n",
       "</tr>\n",
       "<tr>\n",
       "  <th>7/8</th>                  <td>    0.8473</td> <td>    0.035</td> <td>   24.398</td> <td> 0.000</td> <td>    0.779</td> <td>    0.915</td>\n",
       "</tr>\n",
       "<tr>\n",
       "  <th>8/9</th>                  <td>    1.6397</td> <td>    0.194</td> <td>    8.446</td> <td> 0.000</td> <td>    1.259</td> <td>    2.020</td>\n",
       "</tr>\n",
       "</table>"
      ],
      "text/plain": [
       "<class 'statsmodels.iolib.summary.Summary'>\n",
       "\"\"\"\n",
       "                             OrderedModel Results                             \n",
       "==============================================================================\n",
       "Dep. Variable:                quality   Log-Likelihood:                -5634.8\n",
       "Model:                   OrderedModel   AIC:                         1.130e+04\n",
       "Method:            Maximum Likelihood   BIC:                         1.140e+04\n",
       "Date:                Wed, 20 Apr 2022                                         \n",
       "Time:                        18:10:31                                         \n",
       "No. Observations:                5197                                         \n",
       "Df Residuals:                    5182                                         \n",
       "Df Model:                          15                                         \n",
       "========================================================================================\n",
       "                           coef    std err          z      P>|z|      [0.025      0.975]\n",
       "----------------------------------------------------------------------------------------\n",
       "volatile acidity        -0.7067      0.039    -18.171      0.000      -0.783      -0.631\n",
       "residual sugar           0.5320      0.058      9.209      0.000       0.419       0.645\n",
       "free sulfur dioxide      0.2620      0.042      6.305      0.000       0.181       0.343\n",
       "total sulfur dioxide    -0.2593      0.054     -4.836      0.000      -0.364      -0.154\n",
       "density                 -0.3858      0.078     -4.968      0.000      -0.538      -0.234\n",
       "pH                       0.0962      0.030      3.243      0.001       0.038       0.154\n",
       "sulphates                0.2254      0.032      6.939      0.000       0.162       0.289\n",
       "alcohol                  0.9324      0.048     19.501      0.000       0.839       1.026\n",
       "wine_color              -0.3219      0.070     -4.597      0.000      -0.459      -0.185\n",
       "3/4                     -6.3863      0.233    -27.376      0.000      -6.844      -5.929\n",
       "4/5                      0.8892      0.091      9.796      0.000       0.711       1.067\n",
       "5/6                      1.1695      0.025     47.085      0.000       1.121       1.218\n",
       "6/7                      0.9501      0.019     48.942      0.000       0.912       0.988\n",
       "7/8                      0.8473      0.035     24.398      0.000       0.779       0.915\n",
       "8/9                      1.6397      0.194      8.446      0.000       1.259       2.020\n",
       "========================================================================================\n",
       "\"\"\""
      ]
     },
     "execution_count": 112,
     "metadata": {},
     "output_type": "execute_result"
    }
   ],
   "source": [
    "mod_prob = OrderedModel(y_train, df_scaled_X_train, distr='logit')\n",
    "res_prob = mod_prob.fit(method='bfgs', disp = False)\n",
    "res_prob.summary()    "
   ]
  },
  {
   "cell_type": "code",
   "execution_count": 114,
   "id": "cf2f1033",
   "metadata": {},
   "outputs": [],
   "source": [
    "predicted = res_prob.model.predict(res_prob.params, exog = np.array(df_scaled_X_test)[:, None])"
   ]
  },
  {
   "cell_type": "code",
   "execution_count": 115,
   "id": "b708dbe5",
   "metadata": {},
   "outputs": [],
   "source": [
    "rowmax = np.amax(predicted[:,0], axis = 1)"
   ]
  },
  {
   "cell_type": "code",
   "execution_count": 116,
   "id": "98007d48",
   "metadata": {},
   "outputs": [],
   "source": [
    "# Need to change back to 3 to 9 scale\n",
    "y_pred = []\n",
    "for i, r in enumerate(rowmax):\n",
    "    y_pred.append(list(predicted[i,0]).index(r)+3)"
   ]
  },
  {
   "cell_type": "code",
   "execution_count": 117,
   "id": "ab3db2c9",
   "metadata": {},
   "outputs": [
    {
     "data": {
      "text/plain": [
       "0.5361538461538462"
      ]
     },
     "execution_count": 117,
     "metadata": {},
     "output_type": "execute_result"
    }
   ],
   "source": [
    "# Using the list comparison what is the percentage of matches\n",
    "np.sum(y_test==y_pred)/len(y_test)"
   ]
  },
  {
   "cell_type": "code",
   "execution_count": 157,
   "id": "2f4913ca",
   "metadata": {},
   "outputs": [
    {
     "name": "stdout",
     "output_type": "stream",
     "text": [
      "Label: 3, Precision: 1.0000, Recall: 0.9915, Specificity: 0.0000, Accuracy: 0.9915, F1: 0.9957 \n",
      "Label: 4, Precision: 1.0000, Recall: 0.9700, Specificity: 1.0000, Accuracy: 0.9700, F1: 0.9848 \n",
      "Label: 5, Precision: 0.8126, Recall: 0.8045, Specificity: 0.5901, Accuracy: 0.7377, F1: 0.8085 \n",
      "Label: 6, Precision: 0.4743, Recall: 0.6772, Specificity: 0.5233, Accuracy: 0.5831, F1: 0.5579 \n",
      "Label: 7, Precision: 0.9474, Recall: 0.8544, Specificity: 0.4184, Accuracy: 0.8215, F1: 0.8985 \n",
      "Label: 8, Precision: 0.9992, Recall: 0.9723, Specificity: 0.0000, Accuracy: 0.9715, F1: 0.9856 \n",
      "Label: 9, Precision: 1.0000, Recall: 0.9969, Specificity: 0.0000, Accuracy: 0.9969, F1: 0.9984 \n"
     ]
    }
   ],
   "source": [
    "cf = multilabel_confusion_matrix(y_test, y_pred)\n",
    "l =['3', '4', '5', '6', '7', '8', '9']\n",
    "mlstats(cf, l)"
   ]
  },
  {
   "cell_type": "code",
   "execution_count": null,
   "id": "f38b180e",
   "metadata": {},
   "outputs": [],
   "source": [
    "# This result is slightly better but in both cases the model under performs in mid-grade values. \n",
    "# Let's try the probit model\n",
    "\n"
   ]
  }
 ],
 "metadata": {
  "kernelspec": {
   "display_name": "Python 3 (ipykernel)",
   "language": "python",
   "name": "python3"
  },
  "language_info": {
   "codemirror_mode": {
    "name": "ipython",
    "version": 3
   },
   "file_extension": ".py",
   "mimetype": "text/x-python",
   "name": "python",
   "nbconvert_exporter": "python",
   "pygments_lexer": "ipython3",
   "version": "3.8.13"
  }
 },
 "nbformat": 4,
 "nbformat_minor": 5
}
