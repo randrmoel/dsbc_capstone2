{
 "cells": [
  {
   "cell_type": "markdown",
   "id": "9549efe0",
   "metadata": {},
   "source": [
    "<h3> In this notebook we will perform preprocessing of the total wine database including</h3>\n",
    "<ol>\n",
    "    <li> Creating dummy variables from categorical variables where needed </li>\n",
    "    <li> Scaling continuous variables</li>\n",
    "    <li> Split into a training and test test </li>\n",
    "    <li> Saving the pre-processed and split data into separate CSV files </li>\n",
    "</ol>"
   ]
  },
  {
   "cell_type": "code",
   "execution_count": 31,
   "id": "20d1fd59",
   "metadata": {},
   "outputs": [],
   "source": [
    "# Load Required Packages\n",
    "import pandas as pd\n",
    "import numpy as np\n",
    "import matplotlib.pyplot as plt\n",
    "import seaborn as sns\n",
    "from sklearn.model_selection import train_test_split\n",
    "from sklearn.preprocessing import StandardScaler, MinMaxScaler"
   ]
  },
  {
   "cell_type": "code",
   "execution_count": 32,
   "id": "feb64090",
   "metadata": {},
   "outputs": [],
   "source": [
    "# Load wine database files\n",
    "wine_qual = pd.read_csv('../data/WineQual.csv')"
   ]
  },
  {
   "cell_type": "code",
   "execution_count": 33,
   "id": "93d767f9",
   "metadata": {},
   "outputs": [
    {
     "data": {
      "text/html": [
       "<div>\n",
       "<style scoped>\n",
       "    .dataframe tbody tr th:only-of-type {\n",
       "        vertical-align: middle;\n",
       "    }\n",
       "\n",
       "    .dataframe tbody tr th {\n",
       "        vertical-align: top;\n",
       "    }\n",
       "\n",
       "    .dataframe thead th {\n",
       "        text-align: right;\n",
       "    }\n",
       "</style>\n",
       "<table border=\"1\" class=\"dataframe\">\n",
       "  <thead>\n",
       "    <tr style=\"text-align: right;\">\n",
       "      <th></th>\n",
       "      <th>fixed acidity</th>\n",
       "      <th>volatile acidity</th>\n",
       "      <th>citric acid</th>\n",
       "      <th>residual sugar</th>\n",
       "      <th>chlorides</th>\n",
       "      <th>free sulfur dioxide</th>\n",
       "      <th>total sulfur dioxide</th>\n",
       "      <th>density</th>\n",
       "      <th>pH</th>\n",
       "      <th>sulphates</th>\n",
       "      <th>alcohol</th>\n",
       "      <th>quality</th>\n",
       "      <th>wine_color</th>\n",
       "    </tr>\n",
       "  </thead>\n",
       "  <tbody>\n",
       "    <tr>\n",
       "      <th>0</th>\n",
       "      <td>7.0</td>\n",
       "      <td>0.27</td>\n",
       "      <td>0.36</td>\n",
       "      <td>20.7</td>\n",
       "      <td>0.045</td>\n",
       "      <td>45.0</td>\n",
       "      <td>170.0</td>\n",
       "      <td>1.0010</td>\n",
       "      <td>3.00</td>\n",
       "      <td>0.45</td>\n",
       "      <td>8.8</td>\n",
       "      <td>6</td>\n",
       "      <td>2</td>\n",
       "    </tr>\n",
       "    <tr>\n",
       "      <th>1</th>\n",
       "      <td>6.3</td>\n",
       "      <td>0.30</td>\n",
       "      <td>0.34</td>\n",
       "      <td>1.6</td>\n",
       "      <td>0.049</td>\n",
       "      <td>14.0</td>\n",
       "      <td>132.0</td>\n",
       "      <td>0.9940</td>\n",
       "      <td>3.30</td>\n",
       "      <td>0.49</td>\n",
       "      <td>9.5</td>\n",
       "      <td>6</td>\n",
       "      <td>2</td>\n",
       "    </tr>\n",
       "    <tr>\n",
       "      <th>2</th>\n",
       "      <td>8.1</td>\n",
       "      <td>0.28</td>\n",
       "      <td>0.40</td>\n",
       "      <td>6.9</td>\n",
       "      <td>0.050</td>\n",
       "      <td>30.0</td>\n",
       "      <td>97.0</td>\n",
       "      <td>0.9951</td>\n",
       "      <td>3.26</td>\n",
       "      <td>0.44</td>\n",
       "      <td>10.1</td>\n",
       "      <td>6</td>\n",
       "      <td>2</td>\n",
       "    </tr>\n",
       "    <tr>\n",
       "      <th>3</th>\n",
       "      <td>7.2</td>\n",
       "      <td>0.23</td>\n",
       "      <td>0.32</td>\n",
       "      <td>8.5</td>\n",
       "      <td>0.058</td>\n",
       "      <td>47.0</td>\n",
       "      <td>186.0</td>\n",
       "      <td>0.9956</td>\n",
       "      <td>3.19</td>\n",
       "      <td>0.40</td>\n",
       "      <td>9.9</td>\n",
       "      <td>6</td>\n",
       "      <td>2</td>\n",
       "    </tr>\n",
       "    <tr>\n",
       "      <th>4</th>\n",
       "      <td>7.2</td>\n",
       "      <td>0.23</td>\n",
       "      <td>0.32</td>\n",
       "      <td>8.5</td>\n",
       "      <td>0.058</td>\n",
       "      <td>47.0</td>\n",
       "      <td>186.0</td>\n",
       "      <td>0.9956</td>\n",
       "      <td>3.19</td>\n",
       "      <td>0.40</td>\n",
       "      <td>9.9</td>\n",
       "      <td>6</td>\n",
       "      <td>2</td>\n",
       "    </tr>\n",
       "  </tbody>\n",
       "</table>\n",
       "</div>"
      ],
      "text/plain": [
       "   fixed acidity  volatile acidity  citric acid  residual sugar  chlorides  \\\n",
       "0            7.0              0.27         0.36            20.7      0.045   \n",
       "1            6.3              0.30         0.34             1.6      0.049   \n",
       "2            8.1              0.28         0.40             6.9      0.050   \n",
       "3            7.2              0.23         0.32             8.5      0.058   \n",
       "4            7.2              0.23         0.32             8.5      0.058   \n",
       "\n",
       "   free sulfur dioxide  total sulfur dioxide  density    pH  sulphates  \\\n",
       "0                 45.0                 170.0   1.0010  3.00       0.45   \n",
       "1                 14.0                 132.0   0.9940  3.30       0.49   \n",
       "2                 30.0                  97.0   0.9951  3.26       0.44   \n",
       "3                 47.0                 186.0   0.9956  3.19       0.40   \n",
       "4                 47.0                 186.0   0.9956  3.19       0.40   \n",
       "\n",
       "   alcohol  quality  wine_color  \n",
       "0      8.8        6           2  \n",
       "1      9.5        6           2  \n",
       "2     10.1        6           2  \n",
       "3      9.9        6           2  \n",
       "4      9.9        6           2  "
      ]
     },
     "execution_count": 33,
     "metadata": {},
     "output_type": "execute_result"
    }
   ],
   "source": [
    "# Print out head\n",
    "wine_qual.head()"
   ]
  },
  {
   "cell_type": "code",
   "execution_count": 34,
   "id": "dfd808e6",
   "metadata": {},
   "outputs": [],
   "source": [
    "# Create explanatory and predictor variables\n",
    "x_cols = list(wine_qual.columns)\n",
    "x_cols.remove('quality')\n",
    "y = wine_qual['quality']\n",
    "X = wine_qual[x_cols]"
   ]
  },
  {
   "cell_type": "code",
   "execution_count": 35,
   "id": "e9a89db4",
   "metadata": {},
   "outputs": [],
   "source": [
    "# Create dummies and add back to data table\n",
    "# From before, red is 2 and white is 1\n",
    "# to make this a dummy variable, subtract 1 from the wine_color column to make red=1 and white=0\n",
    "# Quality is an ordinal variable where the higher the number the better the quality\n",
    "X = pd.get_dummies(X, drop_first = True)\n",
    "X.loc[:,'wine_color'] -= 1"
   ]
  },
  {
   "cell_type": "code",
   "execution_count": 36,
   "id": "21127d52",
   "metadata": {},
   "outputs": [],
   "source": [
    "# Stratify along wine_color for test train split\n",
    "X_train, X_test, y_train, y_test = train_test_split(X, y,stratify= y, random_state = 42, \\\n",
    "                                                    test_size=0.20)"
   ]
  },
  {
   "cell_type": "code",
   "execution_count": 37,
   "id": "7ab9ea15",
   "metadata": {},
   "outputs": [],
   "source": [
    "# Perform standard scaler on training set and also apply this scaler to test set\n",
    "# To prevent leakage and because we learn something from the data when we scale, scaling should be done first\n",
    "# to training data and this scaler applied to the test data.\n",
    "s = StandardScaler()\n",
    "\n",
    "scaled_X_train = s.fit_transform(X_train)\n",
    "df_scaled_X_train = pd.DataFrame(scaled_X_train, index=X_train.index, columns=x_cols)\n",
    "\n",
    "scaled_X_test = s.fit_transform(X_test)\n",
    "df_scaled_X_test = pd.DataFrame(scaled_X_test, index=X_test.index, columns=x_cols)\n"
   ]
  },
  {
   "cell_type": "code",
   "execution_count": 38,
   "id": "15c94452",
   "metadata": {},
   "outputs": [
    {
     "name": "stdout",
     "output_type": "stream",
     "text": [
      "      fixed acidity  volatile acidity  citric acid  residual sugar  chlorides  \\\n",
      "6338      -0.015878          0.158563     0.009537       -0.677853   0.189381   \n",
      "3921       0.059319          0.098361     0.151232        1.922783   0.032669   \n",
      "2051      -0.316669         -0.804670    -0.344700        2.603418  -0.437469   \n",
      "2059      -1.143844          0.700381     1.001401       -0.799758  -0.500154   \n",
      "4557      -0.843053          0.158563     1.001401        1.353894  -0.437469   \n",
      "\n",
      "      free sulfur dioxide  total sulfur dioxide   density        pH  \\\n",
      "6338            -0.797747             -1.547784 -0.011850  0.041330   \n",
      "3921             0.885150              1.033111  0.852970 -0.503226   \n",
      "2051             0.613715              0.552531  1.650082  0.464874   \n",
      "2059             0.070845              0.961914 -0.473498 -0.563732   \n",
      "4557             1.699455              1.691685  0.696010 -0.321707   \n",
      "\n",
      "      sulphates   alcohol  wine_color  \n",
      "6338   1.286766  0.689241   -1.704084  \n",
      "3921   0.213214 -0.239177    0.586825  \n",
      "2051  -1.195824 -1.505200    0.586825  \n",
      "2059  -0.457756 -1.420799    0.586825  \n",
      "4557   0.347408 -0.661185    0.586825  \n"
     ]
    }
   ],
   "source": [
    "print(df_scaled_X_test.head())"
   ]
  },
  {
   "cell_type": "markdown",
   "id": "4ac708d2",
   "metadata": {},
   "source": [
    "<h3>This is the modeling step for the capstone project</h3>\n",
    "<ol>We will look at several models including:\n",
    "    <li>Ordinal Regression with various kernals</li>\n",
    "    <ol>\n",
    "        <li>Probit</li>\n",
    "        <li>Logit</li>\n",
    "        <li>One Customer Kernal</li>\n",
    "    </ol>\n",
    "    <li>Tree Regression</li>\n",
    "    <ol>\n",
    "        <li>Random Forest Regression</li>\n",
    "        <li>Other forest methodologies</li>\n",
    "    </ol>\n",
    "</ol>"
   ]
  },
  {
   "cell_type": "markdown",
   "id": "ff02d29f",
   "metadata": {},
   "source": [
    "<h3>Load additional required packages</h3>"
   ]
  },
  {
   "cell_type": "code",
   "execution_count": 39,
   "id": "10e8fd50",
   "metadata": {},
   "outputs": [],
   "source": [
    "import scipy.stats as stats\n",
    "from statsmodels.miscmodels.ordinal_model import OrderedModel"
   ]
  },
  {
   "cell_type": "code",
   "execution_count": 52,
   "id": "2efdf97c",
   "metadata": {},
   "outputs": [
    {
     "name": "stdout",
     "output_type": "stream",
     "text": [
      "Optimization terminated successfully.\n",
      "         Current function value: 1.093262\n",
      "         Iterations: 34\n",
      "         Function evaluations: 36\n",
      "         Gradient evaluations: 36\n"
     ]
    },
    {
     "data": {
      "text/html": [
       "<table class=\"simpletable\">\n",
       "<caption>OrderedModel Results</caption>\n",
       "<tr>\n",
       "  <th>Dep. Variable:</th>          <td>quality</td>      <th>  Log-Likelihood:    </th> <td> -5681.7</td> \n",
       "</tr>\n",
       "<tr>\n",
       "  <th>Model:</th>               <td>OrderedModel</td>    <th>  AIC:               </th> <td>1.140e+04</td>\n",
       "</tr>\n",
       "<tr>\n",
       "  <th>Method:</th>           <td>Maximum Likelihood</td> <th>  BIC:               </th> <td>1.152e+04</td>\n",
       "</tr>\n",
       "<tr>\n",
       "  <th>Date:</th>              <td>Tue, 19 Apr 2022</td>  <th>                     </th>     <td> </td>    \n",
       "</tr>\n",
       "<tr>\n",
       "  <th>Time:</th>                  <td>21:56:05</td>      <th>                     </th>     <td> </td>    \n",
       "</tr>\n",
       "<tr>\n",
       "  <th>No. Observations:</th>       <td>  5197</td>       <th>                     </th>     <td> </td>    \n",
       "</tr>\n",
       "<tr>\n",
       "  <th>Df Residuals:</th>           <td>  5179</td>       <th>                     </th>     <td> </td>    \n",
       "</tr>\n",
       "<tr>\n",
       "  <th>Df Model:</th>               <td>    18</td>       <th>                     </th>     <td> </td>    \n",
       "</tr>\n",
       "</table>\n",
       "<table class=\"simpletable\">\n",
       "<tr>\n",
       "            <td></td>              <th>coef</th>     <th>std err</th>      <th>z</th>      <th>P>|z|</th>  <th>[0.025</th>    <th>0.975]</th>  \n",
       "</tr>\n",
       "<tr>\n",
       "  <th>fixed acidity</th>        <td>    0.1821</td> <td>    0.036</td> <td>    5.099</td> <td> 0.000</td> <td>    0.112</td> <td>    0.252</td>\n",
       "</tr>\n",
       "<tr>\n",
       "  <th>volatile acidity</th>     <td>   -0.3764</td> <td>    0.023</td> <td>  -16.498</td> <td> 0.000</td> <td>   -0.421</td> <td>   -0.332</td>\n",
       "</tr>\n",
       "<tr>\n",
       "  <th>citric acid</th>          <td>   -0.0084</td> <td>    0.020</td> <td>   -0.433</td> <td> 0.665</td> <td>   -0.047</td> <td>    0.030</td>\n",
       "</tr>\n",
       "<tr>\n",
       "  <th>residual sugar</th>       <td>    0.4769</td> <td>    0.049</td> <td>    9.695</td> <td> 0.000</td> <td>    0.380</td> <td>    0.573</td>\n",
       "</tr>\n",
       "<tr>\n",
       "  <th>chlorides</th>            <td>   -0.0400</td> <td>    0.020</td> <td>   -2.027</td> <td> 0.043</td> <td>   -0.079</td> <td>   -0.001</td>\n",
       "</tr>\n",
       "<tr>\n",
       "  <th>free sulfur dioxide</th>  <td>    0.1593</td> <td>    0.023</td> <td>    7.009</td> <td> 0.000</td> <td>    0.115</td> <td>    0.204</td>\n",
       "</tr>\n",
       "<tr>\n",
       "  <th>total sulfur dioxide</th> <td>   -0.1044</td> <td>    0.030</td> <td>   -3.430</td> <td> 0.001</td> <td>   -0.164</td> <td>   -0.045</td>\n",
       "</tr>\n",
       "<tr>\n",
       "  <th>density</th>              <td>   -0.5245</td> <td>    0.077</td> <td>   -6.805</td> <td> 0.000</td> <td>   -0.676</td> <td>   -0.373</td>\n",
       "</tr>\n",
       "<tr>\n",
       "  <th>pH</th>                   <td>    0.1302</td> <td>    0.025</td> <td>    5.226</td> <td> 0.000</td> <td>    0.081</td> <td>    0.179</td>\n",
       "</tr>\n",
       "<tr>\n",
       "  <th>sulphates</th>            <td>    0.1634</td> <td>    0.019</td> <td>    8.505</td> <td> 0.000</td> <td>    0.126</td> <td>    0.201</td>\n",
       "</tr>\n",
       "<tr>\n",
       "  <th>alcohol</th>              <td>    0.3693</td> <td>    0.039</td> <td>    9.416</td> <td> 0.000</td> <td>    0.292</td> <td>    0.446</td>\n",
       "</tr>\n",
       "<tr>\n",
       "  <th>wine_color</th>           <td>   -0.2803</td> <td>    0.042</td> <td>   -6.656</td> <td> 0.000</td> <td>   -0.363</td> <td>   -0.198</td>\n",
       "</tr>\n",
       "<tr>\n",
       "  <th>3/4</th>                  <td>   -3.0696</td> <td>    0.077</td> <td>  -40.025</td> <td> 0.000</td> <td>   -3.220</td> <td>   -2.919</td>\n",
       "</tr>\n",
       "<tr>\n",
       "  <th>4/5</th>                  <td>   -0.0963</td> <td>    0.079</td> <td>   -1.215</td> <td> 0.224</td> <td>   -0.252</td> <td>    0.059</td>\n",
       "</tr>\n",
       "<tr>\n",
       "  <th>5/6</th>                  <td>    0.5457</td> <td>    0.022</td> <td>   24.695</td> <td> 0.000</td> <td>    0.502</td> <td>    0.589</td>\n",
       "</tr>\n",
       "<tr>\n",
       "  <th>6/7</th>                  <td>    0.4123</td> <td>    0.018</td> <td>   22.911</td> <td> 0.000</td> <td>    0.377</td> <td>    0.448</td>\n",
       "</tr>\n",
       "<tr>\n",
       "  <th>7/8</th>                  <td>    0.2023</td> <td>    0.032</td> <td>    6.402</td> <td> 0.000</td> <td>    0.140</td> <td>    0.264</td>\n",
       "</tr>\n",
       "<tr>\n",
       "  <th>8/9</th>                  <td>    0.3808</td> <td>    0.110</td> <td>    3.462</td> <td> 0.001</td> <td>    0.165</td> <td>    0.596</td>\n",
       "</tr>\n",
       "</table>"
      ],
      "text/plain": [
       "<class 'statsmodels.iolib.summary.Summary'>\n",
       "\"\"\"\n",
       "                             OrderedModel Results                             \n",
       "==============================================================================\n",
       "Dep. Variable:                quality   Log-Likelihood:                -5681.7\n",
       "Model:                   OrderedModel   AIC:                         1.140e+04\n",
       "Method:            Maximum Likelihood   BIC:                         1.152e+04\n",
       "Date:                Tue, 19 Apr 2022                                         \n",
       "Time:                        21:56:05                                         \n",
       "No. Observations:                5197                                         \n",
       "Df Residuals:                    5179                                         \n",
       "Df Model:                          18                                         \n",
       "========================================================================================\n",
       "                           coef    std err          z      P>|z|      [0.025      0.975]\n",
       "----------------------------------------------------------------------------------------\n",
       "fixed acidity            0.1821      0.036      5.099      0.000       0.112       0.252\n",
       "volatile acidity        -0.3764      0.023    -16.498      0.000      -0.421      -0.332\n",
       "citric acid             -0.0084      0.020     -0.433      0.665      -0.047       0.030\n",
       "residual sugar           0.4769      0.049      9.695      0.000       0.380       0.573\n",
       "chlorides               -0.0400      0.020     -2.027      0.043      -0.079      -0.001\n",
       "free sulfur dioxide      0.1593      0.023      7.009      0.000       0.115       0.204\n",
       "total sulfur dioxide    -0.1044      0.030     -3.430      0.001      -0.164      -0.045\n",
       "density                 -0.5245      0.077     -6.805      0.000      -0.676      -0.373\n",
       "pH                       0.1302      0.025      5.226      0.000       0.081       0.179\n",
       "sulphates                0.1634      0.019      8.505      0.000       0.126       0.201\n",
       "alcohol                  0.3693      0.039      9.416      0.000       0.292       0.446\n",
       "wine_color              -0.2803      0.042     -6.656      0.000      -0.363      -0.198\n",
       "3/4                     -3.0696      0.077    -40.025      0.000      -3.220      -2.919\n",
       "4/5                     -0.0963      0.079     -1.215      0.224      -0.252       0.059\n",
       "5/6                      0.5457      0.022     24.695      0.000       0.502       0.589\n",
       "6/7                      0.4123      0.018     22.911      0.000       0.377       0.448\n",
       "7/8                      0.2023      0.032      6.402      0.000       0.140       0.264\n",
       "8/9                      0.3808      0.110      3.462      0.001       0.165       0.596\n",
       "========================================================================================\n",
       "\"\"\""
      ]
     },
     "execution_count": 52,
     "metadata": {},
     "output_type": "execute_result"
    }
   ],
   "source": [
    "# Probit Model First\n",
    "mod_prob = OrderedModel(y_train, df_scaled_X_train, distr='probit')\n",
    "res_prob = mod_prob.fit(method='bfgs')\n",
    "res_prob.summary()"
   ]
  },
  {
   "cell_type": "code",
   "execution_count": 55,
   "id": "5bf76f00",
   "metadata": {},
   "outputs": [
    {
     "name": "stdout",
     "output_type": "stream",
     "text": [
      "[[1.23845725e-04 2.79821103e-03 1.48453983e-01 ... 2.71528189e-01\n",
      "  4.34241281e-02 7.69120001e-04]\n",
      " [5.56849727e-04 8.78268992e-03 2.56310681e-01 ... 1.70793579e-01\n",
      "  1.73167428e-02 1.77201468e-04]\n",
      " [1.88859999e-03 2.15194666e-02 3.73211216e-01 ... 9.92798477e-02\n",
      "  6.66875814e-03 4.14577621e-05]\n",
      " ...\n",
      " [9.18000858e-05 2.21862529e-03 1.31947057e-01 ... 2.91436382e-01\n",
      "  5.07631078e-02 9.95969405e-04]\n",
      " [5.65384264e-03 4.64476272e-02 4.88139895e-01 ... 5.12711859e-02\n",
      "  2.27867346e-03 8.57998289e-06]\n",
      " [2.15394432e-05 7.09564669e-04 7.19335775e-02 ... 3.77887241e-01\n",
      "  9.75170963e-02 3.05618482e-03]]\n"
     ]
    }
   ],
   "source": [
    "predicted = res_prob.model.predict(res_prob.params, exog=scaled_X_test)\n"
   ]
  },
  {
   "cell_type": "code",
   "execution_count": 58,
   "id": "ee1fc45b",
   "metadata": {},
   "outputs": [
    {
     "name": "stdout",
     "output_type": "stream",
     "text": [
      "0.5460622558445611\n"
     ]
    }
   ],
   "source": [
    "print(predicted[1].max())"
   ]
  },
  {
   "cell_type": "code",
   "execution_count": null,
   "id": "55b2159c",
   "metadata": {},
   "outputs": [],
   "source": []
  }
 ],
 "metadata": {
  "kernelspec": {
   "display_name": "Python 3 (ipykernel)",
   "language": "python",
   "name": "python3"
  },
  "language_info": {
   "codemirror_mode": {
    "name": "ipython",
    "version": 3
   },
   "file_extension": ".py",
   "mimetype": "text/x-python",
   "name": "python",
   "nbconvert_exporter": "python",
   "pygments_lexer": "ipython3",
   "version": "3.8.13"
  }
 },
 "nbformat": 4,
 "nbformat_minor": 5
}
